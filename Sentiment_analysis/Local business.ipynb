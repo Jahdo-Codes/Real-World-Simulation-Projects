{
 "cells": [
  {
   "metadata": {},
   "cell_type": "markdown",
   "source": "### Load libraries",
   "id": "d0cd322f11cd33d7"
  },
  {
   "metadata": {
    "ExecuteTime": {
     "end_time": "2025-04-18T10:56:43.707535Z",
     "start_time": "2025-04-18T10:56:43.145500Z"
    }
   },
   "cell_type": "code",
   "source": [
    "import re\n",
    "import pandas as pd\n",
    "import numpy as np\n",
    "import seaborn as sns\n",
    "import matplotlib.pyplot as plt\n",
    "\n",
    "import json #Files saved from google takeout were in json format\n",
    "import os\n",
    "\n",
    "import nltk\n",
    "from nltk.corpus import stopwords\n",
    "from nltk.tokenize import word_tokenize\n",
    "from nltk.stem import WordNetLemmatizer\n",
    "\n",
    "nltk.download('stopwords')\n",
    "nltk.download('punkt')\n",
    "nltk.download('wordnet')\n",
    "nltk.download('vader_lexicon')\n",
    "stop_words = set(stopwords.words(['english','spanish']))\n",
    "lemmatizer = WordNetLemmatizer()"
   ],
   "id": "655d8c4177d3ba25",
   "outputs": [
    {
     "name": "stderr",
     "output_type": "stream",
     "text": [
      "[nltk_data] Downloading package stopwords to\n",
      "[nltk_data]     /Users/jahdovanterpool/nltk_data...\n",
      "[nltk_data]   Package stopwords is already up-to-date!\n",
      "[nltk_data] Downloading package punkt to\n",
      "[nltk_data]     /Users/jahdovanterpool/nltk_data...\n",
      "[nltk_data]   Package punkt is already up-to-date!\n",
      "[nltk_data] Downloading package wordnet to\n",
      "[nltk_data]     /Users/jahdovanterpool/nltk_data...\n",
      "[nltk_data]   Package wordnet is already up-to-date!\n",
      "[nltk_data] Downloading package vader_lexicon to\n",
      "[nltk_data]     /Users/jahdovanterpool/nltk_data...\n",
      "[nltk_data]   Package vader_lexicon is already up-to-date!\n"
     ]
    }
   ],
   "execution_count": 2
  },
  {
   "metadata": {},
   "cell_type": "markdown",
   "source": "### Gathering the Data",
   "id": "d0cc59cd3246da8a"
  },
  {
   "metadata": {
    "ExecuteTime": {
     "end_time": "2025-04-08T06:52:43.237335Z",
     "start_time": "2025-04-08T06:52:43.232123Z"
    }
   },
   "cell_type": "code",
   "outputs": [
    {
     "name": "stdout",
     "output_type": "stream",
     "text": [
      "Renamed review-000.json --> review-000.json\n",
      "Renamed review-001.json --> review-001.json\n",
      "Renamed review-002.json --> review-002.json\n",
      "Renamed review-003.json --> review-003.json\n",
      "Renamed review-004.json --> review-004.json\n",
      "Renamed review-005.json --> review-005.json\n",
      "Renamed review-006.json --> review-006.json\n",
      "Renamed review-007.json --> review-007.json\n",
      "Renamed review-008.json --> review-008.json\n",
      "Renamed review-009.json --> review-009.json\n",
      "Renamed review-010.json --> review-010.json\n",
      "Renamed review-011.json --> review-011.json\n",
      "Renamed review-012.json --> review-012.json\n",
      "Renamed review-013.json --> review-013.json\n",
      "Renamed review-014.json --> review-014.json\n",
      "['review-000.json', 'review-001.json', 'review-002.json', 'review-003.json', 'review-004.json', 'review-005.json', 'review-006.json', 'review-007.json', 'review-008.json', 'review-009.json', 'review-010.json', 'review-011.json', 'review-012.json', 'review-013.json', 'review-014.json']\n"
     ]
    }
   ],
   "execution_count": 2,
   "source": [
    "# Load json file from my files\n",
    "# Rename files so they could be better organized\n",
    "folder_path = '/Users/jahdovanterpool/Downloads/Sylvia/reviews'\n",
    "\n",
    "\n",
    "def rename_json_files(folder_path):\n",
    "    json_files = sorted([f for f in os.listdir(folder_path) if f.endswith('json')])\n",
    "    renamed = []\n",
    "\n",
    "    for i, old_name in enumerate(json_files):\n",
    "        old_path = os.path.join(folder_path,old_name)\n",
    "        new_name = f'review-{i:03}.json'\n",
    "        new_path = os.path.join(folder_path,new_name)\n",
    "        os.rename(old_path,new_path)\n",
    "        print(f'Renamed {old_name} --> {new_name}')\n",
    "        renamed.append(new_name)\n",
    "    return renamed\n",
    "\n",
    "\n",
    "file_name_change = rename_json_files(folder_path)\n",
    "print(file_name_change)"
   ],
   "id": "689986289ae58281"
  },
  {
   "metadata": {
    "ExecuteTime": {
     "end_time": "2025-04-08T06:52:43.314781Z",
     "start_time": "2025-04-08T06:52:43.294852Z"
    }
   },
   "cell_type": "code",
   "source": [
    "# Combine the json files and create one dataframe\n",
    "\n",
    "def merge_json_in_folder(folder_path):\n",
    "    merged_data = pd.DataFrame()\n",
    "    for filename in os.listdir(folder_path):\n",
    "        if filename.endswith('.json'):\n",
    "            file_path = os.path.join(folder_path, filename)\n",
    "            try:\n",
    "                data = pd.read_json(file_path)\n",
    "                merged_data = pd.concat([merged_data, data], ignore_index=True)\n",
    "            except Exception as e:\n",
    "                print(f\"Could not read {filename}: {e}\")\n",
    "    merged_data.to_json('merged.json', orient='records', lines=True)\n",
    "    return merged_data\n",
    "\n",
    "\n",
    "merged_df = merge_json_in_folder(folder_path)\n",
    "merged_df.head()"
   ],
   "id": "50c4381dc36e9b56",
   "outputs": [
    {
     "data": {
      "text/plain": [
       "                                             reviews\n",
       "0  {'reviewer': {'displayName': 'Angela Pressley'...\n",
       "1  {'reviewer': {'displayName': 'Tywan Robinson'}...\n",
       "2  {'reviewer': {'displayName': 'roy burgess'}, '...\n",
       "3  {'reviewer': {'displayName': 'DDA'}, 'starRati...\n",
       "4  {'reviewer': {'displayName': 'Willie Eady'}, '..."
      ],
      "text/html": [
       "<div>\n",
       "<style scoped>\n",
       "    .dataframe tbody tr th:only-of-type {\n",
       "        vertical-align: middle;\n",
       "    }\n",
       "\n",
       "    .dataframe tbody tr th {\n",
       "        vertical-align: top;\n",
       "    }\n",
       "\n",
       "    .dataframe thead th {\n",
       "        text-align: right;\n",
       "    }\n",
       "</style>\n",
       "<table border=\"1\" class=\"dataframe\">\n",
       "  <thead>\n",
       "    <tr style=\"text-align: right;\">\n",
       "      <th></th>\n",
       "      <th>reviews</th>\n",
       "    </tr>\n",
       "  </thead>\n",
       "  <tbody>\n",
       "    <tr>\n",
       "      <th>0</th>\n",
       "      <td>{'reviewer': {'displayName': 'Angela Pressley'...</td>\n",
       "    </tr>\n",
       "    <tr>\n",
       "      <th>1</th>\n",
       "      <td>{'reviewer': {'displayName': 'Tywan Robinson'}...</td>\n",
       "    </tr>\n",
       "    <tr>\n",
       "      <th>2</th>\n",
       "      <td>{'reviewer': {'displayName': 'roy burgess'}, '...</td>\n",
       "    </tr>\n",
       "    <tr>\n",
       "      <th>3</th>\n",
       "      <td>{'reviewer': {'displayName': 'DDA'}, 'starRati...</td>\n",
       "    </tr>\n",
       "    <tr>\n",
       "      <th>4</th>\n",
       "      <td>{'reviewer': {'displayName': 'Willie Eady'}, '...</td>\n",
       "    </tr>\n",
       "  </tbody>\n",
       "</table>\n",
       "</div>"
      ]
     },
     "execution_count": 3,
     "metadata": {},
     "output_type": "execute_result"
    }
   ],
   "execution_count": 3
  },
  {
   "metadata": {
    "ExecuteTime": {
     "end_time": "2025-04-08T06:52:43.335071Z",
     "start_time": "2025-04-08T06:52:43.323766Z"
    }
   },
   "cell_type": "code",
   "source": [
    "# Convert Json semi structured data puts it into a proper dataframe\n",
    "# Fill missing values replies and comments with 'No reply' or just there star rating\n",
    "\n",
    "flat_df = pd.json_normalize(merged_df['reviews'])\n",
    "\n",
    "flat_df.rename(columns={\n",
    "    'starRating':'Rating',\n",
    "    'comment': 'Comment',\n",
    "    'createTime': 'Date posted',\n",
    "    'updateTime': 'Updated',\n",
    "    'name': 'ReviewID',\n",
    "    'reviewer.displayName':'Reviewer',\n",
    "    'reviewReply.comment': 'Reply',\n",
    "    'reviewReply.updateTime': 'ReplyUpdate'\n",
    "},inplace=True)\n",
    "\n",
    "\n",
    "flat_df['Reply'] = flat_df['Reply'].fillna('No Reply')\n",
    "flat_df.loc[:,'Comment'] = flat_df.apply(\n",
    "    lambda row: f\"{row['Rating']} star\" if pd.isna(row['Comment']) else row['Comment'],\n",
    "    axis = 1\n",
    ")\n",
    "\n",
    "flat_df.head(100)"
   ],
   "id": "c729406fcdece901",
   "outputs": [
    {
     "data": {
      "text/plain": [
       "   Rating                                            Comment  \\\n",
       "0     TWO  Customer service was very nice. The prices wer...   \n",
       "1    FIVE                                          FIVE star   \n",
       "2    FOUR                                          FOUR star   \n",
       "3    FIVE  Oxtails, wow, best around 3 neighboring counti...   \n",
       "4    FIVE                                          FIVE star   \n",
       "..    ...                                                ...   \n",
       "95   FIVE  Best Jamaican food in Poughkeepsie I’ve been g...   \n",
       "96   FIVE                                          FIVE star   \n",
       "97   FIVE  Always an enjoyable experience but be prepared...   \n",
       "98   FIVE                                          FIVE star   \n",
       "99   FIVE                                          FIVE star   \n",
       "\n",
       "                    Date posted                      Updated  \\\n",
       "0   2022-01-18T16:52:22.018400Z  2022-01-18T16:52:22.018400Z   \n",
       "1   2022-01-06T18:13:54.656825Z  2022-01-06T18:13:54.656825Z   \n",
       "2   2019-09-10T21:10:15.208764Z  2022-01-06T17:03:22.134433Z   \n",
       "3   2022-01-05T18:22:16.895742Z  2022-01-05T18:22:16.895742Z   \n",
       "4   2021-12-10T19:37:43.238743Z  2021-12-10T19:37:43.238743Z   \n",
       "..                          ...                          ...   \n",
       "95  2022-03-06T15:05:54.053857Z  2022-03-06T15:05:54.053857Z   \n",
       "96  2022-02-25T07:28:45.738440Z  2022-02-25T07:28:45.738440Z   \n",
       "97  2022-02-08T18:13:29.797840Z  2022-02-08T18:13:29.797840Z   \n",
       "98  2021-08-31T22:46:17.008788Z  2022-02-08T11:36:50.719964Z   \n",
       "99  2022-01-28T12:19:49.363600Z  2022-01-28T12:19:49.363600Z   \n",
       "\n",
       "                                             ReviewID         Reviewer  \\\n",
       "0   accounts/113125786415732178818/locations/11630...  Angela Pressley   \n",
       "1   accounts/113125786415732178818/locations/11630...   Tywan Robinson   \n",
       "2   accounts/113125786415732178818/locations/11630...      roy burgess   \n",
       "3   accounts/113125786415732178818/locations/11630...              DDA   \n",
       "4   accounts/113125786415732178818/locations/11630...      Willie Eady   \n",
       "..                                                ...              ...   \n",
       "95  accounts/113125786415732178818/locations/11630...    Roberto Ortiz   \n",
       "96  accounts/113125786415732178818/locations/11630...     Norman Smith   \n",
       "97  accounts/113125786415732178818/locations/11630...   Meaghan Battle   \n",
       "98  accounts/113125786415732178818/locations/11630...   Legacy Mission   \n",
       "99  accounts/113125786415732178818/locations/11630...       Sky Gewant   \n",
       "\n",
       "        Reply                  ReplyUpdate  \n",
       "0    No Reply                          NaN  \n",
       "1    No Reply                          NaN  \n",
       "2    No Reply                          NaN  \n",
       "3    No Reply                          NaN  \n",
       "4    No Reply                          NaN  \n",
       "..        ...                          ...  \n",
       "95  Thank you  2023-11-18T00:16:52.471179Z  \n",
       "96  Thank you  2023-11-18T00:17:00.620590Z  \n",
       "97  Thank you  2023-11-18T00:17:14.042470Z  \n",
       "98   No Reply                          NaN  \n",
       "99   No Reply                          NaN  \n",
       "\n",
       "[100 rows x 8 columns]"
      ],
      "text/html": [
       "<div>\n",
       "<style scoped>\n",
       "    .dataframe tbody tr th:only-of-type {\n",
       "        vertical-align: middle;\n",
       "    }\n",
       "\n",
       "    .dataframe tbody tr th {\n",
       "        vertical-align: top;\n",
       "    }\n",
       "\n",
       "    .dataframe thead th {\n",
       "        text-align: right;\n",
       "    }\n",
       "</style>\n",
       "<table border=\"1\" class=\"dataframe\">\n",
       "  <thead>\n",
       "    <tr style=\"text-align: right;\">\n",
       "      <th></th>\n",
       "      <th>Rating</th>\n",
       "      <th>Comment</th>\n",
       "      <th>Date posted</th>\n",
       "      <th>Updated</th>\n",
       "      <th>ReviewID</th>\n",
       "      <th>Reviewer</th>\n",
       "      <th>Reply</th>\n",
       "      <th>ReplyUpdate</th>\n",
       "    </tr>\n",
       "  </thead>\n",
       "  <tbody>\n",
       "    <tr>\n",
       "      <th>0</th>\n",
       "      <td>TWO</td>\n",
       "      <td>Customer service was very nice. The prices wer...</td>\n",
       "      <td>2022-01-18T16:52:22.018400Z</td>\n",
       "      <td>2022-01-18T16:52:22.018400Z</td>\n",
       "      <td>accounts/113125786415732178818/locations/11630...</td>\n",
       "      <td>Angela Pressley</td>\n",
       "      <td>No Reply</td>\n",
       "      <td>NaN</td>\n",
       "    </tr>\n",
       "    <tr>\n",
       "      <th>1</th>\n",
       "      <td>FIVE</td>\n",
       "      <td>FIVE star</td>\n",
       "      <td>2022-01-06T18:13:54.656825Z</td>\n",
       "      <td>2022-01-06T18:13:54.656825Z</td>\n",
       "      <td>accounts/113125786415732178818/locations/11630...</td>\n",
       "      <td>Tywan Robinson</td>\n",
       "      <td>No Reply</td>\n",
       "      <td>NaN</td>\n",
       "    </tr>\n",
       "    <tr>\n",
       "      <th>2</th>\n",
       "      <td>FOUR</td>\n",
       "      <td>FOUR star</td>\n",
       "      <td>2019-09-10T21:10:15.208764Z</td>\n",
       "      <td>2022-01-06T17:03:22.134433Z</td>\n",
       "      <td>accounts/113125786415732178818/locations/11630...</td>\n",
       "      <td>roy burgess</td>\n",
       "      <td>No Reply</td>\n",
       "      <td>NaN</td>\n",
       "    </tr>\n",
       "    <tr>\n",
       "      <th>3</th>\n",
       "      <td>FIVE</td>\n",
       "      <td>Oxtails, wow, best around 3 neighboring counti...</td>\n",
       "      <td>2022-01-05T18:22:16.895742Z</td>\n",
       "      <td>2022-01-05T18:22:16.895742Z</td>\n",
       "      <td>accounts/113125786415732178818/locations/11630...</td>\n",
       "      <td>DDA</td>\n",
       "      <td>No Reply</td>\n",
       "      <td>NaN</td>\n",
       "    </tr>\n",
       "    <tr>\n",
       "      <th>4</th>\n",
       "      <td>FIVE</td>\n",
       "      <td>FIVE star</td>\n",
       "      <td>2021-12-10T19:37:43.238743Z</td>\n",
       "      <td>2021-12-10T19:37:43.238743Z</td>\n",
       "      <td>accounts/113125786415732178818/locations/11630...</td>\n",
       "      <td>Willie Eady</td>\n",
       "      <td>No Reply</td>\n",
       "      <td>NaN</td>\n",
       "    </tr>\n",
       "    <tr>\n",
       "      <th>...</th>\n",
       "      <td>...</td>\n",
       "      <td>...</td>\n",
       "      <td>...</td>\n",
       "      <td>...</td>\n",
       "      <td>...</td>\n",
       "      <td>...</td>\n",
       "      <td>...</td>\n",
       "      <td>...</td>\n",
       "    </tr>\n",
       "    <tr>\n",
       "      <th>95</th>\n",
       "      <td>FIVE</td>\n",
       "      <td>Best Jamaican food in Poughkeepsie I’ve been g...</td>\n",
       "      <td>2022-03-06T15:05:54.053857Z</td>\n",
       "      <td>2022-03-06T15:05:54.053857Z</td>\n",
       "      <td>accounts/113125786415732178818/locations/11630...</td>\n",
       "      <td>Roberto Ortiz</td>\n",
       "      <td>Thank you</td>\n",
       "      <td>2023-11-18T00:16:52.471179Z</td>\n",
       "    </tr>\n",
       "    <tr>\n",
       "      <th>96</th>\n",
       "      <td>FIVE</td>\n",
       "      <td>FIVE star</td>\n",
       "      <td>2022-02-25T07:28:45.738440Z</td>\n",
       "      <td>2022-02-25T07:28:45.738440Z</td>\n",
       "      <td>accounts/113125786415732178818/locations/11630...</td>\n",
       "      <td>Norman Smith</td>\n",
       "      <td>Thank you</td>\n",
       "      <td>2023-11-18T00:17:00.620590Z</td>\n",
       "    </tr>\n",
       "    <tr>\n",
       "      <th>97</th>\n",
       "      <td>FIVE</td>\n",
       "      <td>Always an enjoyable experience but be prepared...</td>\n",
       "      <td>2022-02-08T18:13:29.797840Z</td>\n",
       "      <td>2022-02-08T18:13:29.797840Z</td>\n",
       "      <td>accounts/113125786415732178818/locations/11630...</td>\n",
       "      <td>Meaghan Battle</td>\n",
       "      <td>Thank you</td>\n",
       "      <td>2023-11-18T00:17:14.042470Z</td>\n",
       "    </tr>\n",
       "    <tr>\n",
       "      <th>98</th>\n",
       "      <td>FIVE</td>\n",
       "      <td>FIVE star</td>\n",
       "      <td>2021-08-31T22:46:17.008788Z</td>\n",
       "      <td>2022-02-08T11:36:50.719964Z</td>\n",
       "      <td>accounts/113125786415732178818/locations/11630...</td>\n",
       "      <td>Legacy Mission</td>\n",
       "      <td>No Reply</td>\n",
       "      <td>NaN</td>\n",
       "    </tr>\n",
       "    <tr>\n",
       "      <th>99</th>\n",
       "      <td>FIVE</td>\n",
       "      <td>FIVE star</td>\n",
       "      <td>2022-01-28T12:19:49.363600Z</td>\n",
       "      <td>2022-01-28T12:19:49.363600Z</td>\n",
       "      <td>accounts/113125786415732178818/locations/11630...</td>\n",
       "      <td>Sky Gewant</td>\n",
       "      <td>No Reply</td>\n",
       "      <td>NaN</td>\n",
       "    </tr>\n",
       "  </tbody>\n",
       "</table>\n",
       "<p>100 rows × 8 columns</p>\n",
       "</div>"
      ]
     },
     "execution_count": 4,
     "metadata": {},
     "output_type": "execute_result"
    }
   ],
   "execution_count": 4
  },
  {
   "metadata": {
    "ExecuteTime": {
     "end_time": "2025-04-08T06:52:43.359465Z",
     "start_time": "2025-04-08T06:52:43.355273Z"
    }
   },
   "cell_type": "code",
   "source": [
    "# Check for null values\n",
    "flat_df.isnull().sum()"
   ],
   "id": "cef6c7c81c0767ca",
   "outputs": [
    {
     "data": {
      "text/plain": [
       "Rating           0\n",
       "Comment          0\n",
       "Date posted      0\n",
       "Updated          0\n",
       "ReviewID         0\n",
       "Reviewer         0\n",
       "Reply            0\n",
       "ReplyUpdate    229\n",
       "dtype: int64"
      ]
     },
     "execution_count": 5,
     "metadata": {},
     "output_type": "execute_result"
    }
   ],
   "execution_count": 5
  },
  {
   "metadata": {
    "ExecuteTime": {
     "end_time": "2025-04-08T06:52:43.444289Z",
     "start_time": "2025-04-08T06:52:43.437419Z"
    }
   },
   "cell_type": "code",
   "source": [
    "# Create table that just has the comments which received replies\n",
    "replied_df = flat_df[flat_df['Reply'] != 'No Reply']\n",
    "replied_df.head()"
   ],
   "id": "16f2c1f51ce3608c",
   "outputs": [
    {
     "data": {
      "text/plain": [
       "   Rating                                            Comment  \\\n",
       "80   FIVE  Popped In, with my brother, Jerome. Visiting P...   \n",
       "81   FIVE  Excellent food and excellent service. Very pol...   \n",
       "82   FIVE                        A place you must go to eat.   \n",
       "83   FOUR                                          FOUR star   \n",
       "84   FIVE                                The food was great!   \n",
       "\n",
       "                    Date posted                      Updated  \\\n",
       "80  2022-08-09T23:12:21.137862Z  2022-08-09T23:14:01.290592Z   \n",
       "81  2022-07-27T06:38:25.947549Z  2022-07-27T06:38:25.947549Z   \n",
       "82     2018-06-02T10:21:07.801Z  2022-07-01T20:11:31.829372Z   \n",
       "83  2022-06-24T23:24:05.566380Z  2022-06-24T23:24:05.566380Z   \n",
       "84  2022-06-14T12:52:24.799537Z  2022-06-14T12:52:24.799537Z   \n",
       "\n",
       "                                             ReviewID           Reviewer  \\\n",
       "80  accounts/113125786415732178818/locations/11630...      Charles Rhodd   \n",
       "81  accounts/113125786415732178818/locations/11630...      stephen gould   \n",
       "82  accounts/113125786415732178818/locations/11630...       rosem fearon   \n",
       "83  accounts/113125786415732178818/locations/11630...  Alizabeth Holland   \n",
       "84  accounts/113125786415732178818/locations/11630...      odetta bailey   \n",
       "\n",
       "                                                Reply  \\\n",
       "80  Thank you so much for returning and showing us...   \n",
       "81                                  Thank you so much   \n",
       "82                                  Thank you so much   \n",
       "83                                          Thank you   \n",
       "84                                          Thank you   \n",
       "\n",
       "                    ReplyUpdate  \n",
       "80  2022-08-28T14:52:13.194467Z  \n",
       "81  2022-09-03T02:06:11.953185Z  \n",
       "82  2022-09-03T02:06:20.125970Z  \n",
       "83  2022-09-03T02:06:31.037348Z  \n",
       "84  2023-09-21T23:27:00.887095Z  "
      ],
      "text/html": [
       "<div>\n",
       "<style scoped>\n",
       "    .dataframe tbody tr th:only-of-type {\n",
       "        vertical-align: middle;\n",
       "    }\n",
       "\n",
       "    .dataframe tbody tr th {\n",
       "        vertical-align: top;\n",
       "    }\n",
       "\n",
       "    .dataframe thead th {\n",
       "        text-align: right;\n",
       "    }\n",
       "</style>\n",
       "<table border=\"1\" class=\"dataframe\">\n",
       "  <thead>\n",
       "    <tr style=\"text-align: right;\">\n",
       "      <th></th>\n",
       "      <th>Rating</th>\n",
       "      <th>Comment</th>\n",
       "      <th>Date posted</th>\n",
       "      <th>Updated</th>\n",
       "      <th>ReviewID</th>\n",
       "      <th>Reviewer</th>\n",
       "      <th>Reply</th>\n",
       "      <th>ReplyUpdate</th>\n",
       "    </tr>\n",
       "  </thead>\n",
       "  <tbody>\n",
       "    <tr>\n",
       "      <th>80</th>\n",
       "      <td>FIVE</td>\n",
       "      <td>Popped In, with my brother, Jerome. Visiting P...</td>\n",
       "      <td>2022-08-09T23:12:21.137862Z</td>\n",
       "      <td>2022-08-09T23:14:01.290592Z</td>\n",
       "      <td>accounts/113125786415732178818/locations/11630...</td>\n",
       "      <td>Charles Rhodd</td>\n",
       "      <td>Thank you so much for returning and showing us...</td>\n",
       "      <td>2022-08-28T14:52:13.194467Z</td>\n",
       "    </tr>\n",
       "    <tr>\n",
       "      <th>81</th>\n",
       "      <td>FIVE</td>\n",
       "      <td>Excellent food and excellent service. Very pol...</td>\n",
       "      <td>2022-07-27T06:38:25.947549Z</td>\n",
       "      <td>2022-07-27T06:38:25.947549Z</td>\n",
       "      <td>accounts/113125786415732178818/locations/11630...</td>\n",
       "      <td>stephen gould</td>\n",
       "      <td>Thank you so much</td>\n",
       "      <td>2022-09-03T02:06:11.953185Z</td>\n",
       "    </tr>\n",
       "    <tr>\n",
       "      <th>82</th>\n",
       "      <td>FIVE</td>\n",
       "      <td>A place you must go to eat.</td>\n",
       "      <td>2018-06-02T10:21:07.801Z</td>\n",
       "      <td>2022-07-01T20:11:31.829372Z</td>\n",
       "      <td>accounts/113125786415732178818/locations/11630...</td>\n",
       "      <td>rosem fearon</td>\n",
       "      <td>Thank you so much</td>\n",
       "      <td>2022-09-03T02:06:20.125970Z</td>\n",
       "    </tr>\n",
       "    <tr>\n",
       "      <th>83</th>\n",
       "      <td>FOUR</td>\n",
       "      <td>FOUR star</td>\n",
       "      <td>2022-06-24T23:24:05.566380Z</td>\n",
       "      <td>2022-06-24T23:24:05.566380Z</td>\n",
       "      <td>accounts/113125786415732178818/locations/11630...</td>\n",
       "      <td>Alizabeth Holland</td>\n",
       "      <td>Thank you</td>\n",
       "      <td>2022-09-03T02:06:31.037348Z</td>\n",
       "    </tr>\n",
       "    <tr>\n",
       "      <th>84</th>\n",
       "      <td>FIVE</td>\n",
       "      <td>The food was great!</td>\n",
       "      <td>2022-06-14T12:52:24.799537Z</td>\n",
       "      <td>2022-06-14T12:52:24.799537Z</td>\n",
       "      <td>accounts/113125786415732178818/locations/11630...</td>\n",
       "      <td>odetta bailey</td>\n",
       "      <td>Thank you</td>\n",
       "      <td>2023-09-21T23:27:00.887095Z</td>\n",
       "    </tr>\n",
       "  </tbody>\n",
       "</table>\n",
       "</div>"
      ]
     },
     "execution_count": 6,
     "metadata": {},
     "output_type": "execute_result"
    }
   ],
   "execution_count": 6
  },
  {
   "metadata": {
    "ExecuteTime": {
     "end_time": "2025-04-08T06:52:43.508945Z",
     "start_time": "2025-04-08T06:52:43.504912Z"
    }
   },
   "cell_type": "code",
   "source": [
    "# Save data\n",
    "flat_df.to_csv('/Users/jahdovanterpool/Downloads/Sylvia/local_sentiment_project.csv')"
   ],
   "id": "10fd878c439fddbc",
   "outputs": [],
   "execution_count": 7
  },
  {
   "metadata": {},
   "cell_type": "markdown",
   "source": "### Loading data & text preprocessing",
   "id": "b3b7f975610de324"
  },
  {
   "metadata": {
    "ExecuteTime": {
     "end_time": "2025-04-17T09:16:33.814632Z",
     "start_time": "2025-04-17T09:16:33.791922Z"
    }
   },
   "cell_type": "code",
   "source": [
    "# Load data and drop some columns\n",
    "df = pd.read_csv('/Users/jahdovanterpool/Downloads/Sylvia/local_sentiment_project.csv',index_col=0)\n",
    "df.drop(['ReplyUpdate','ReviewID','Updated','Reviewer','Reply'],axis=1, inplace=True)\n",
    "\n",
    "df.head()"
   ],
   "id": "392d41049ed19568",
   "outputs": [
    {
     "data": {
      "text/plain": [
       "  Rating                                            Comment  \\\n",
       "0    TWO  Customer service was very nice. The prices wer...   \n",
       "1   FIVE                                          FIVE star   \n",
       "2   FOUR                                          FOUR star   \n",
       "3   FIVE  Oxtails, wow, best around 3 neighboring counti...   \n",
       "4   FIVE                                          FIVE star   \n",
       "\n",
       "                   Date posted  \n",
       "0  2022-01-18T16:52:22.018400Z  \n",
       "1  2022-01-06T18:13:54.656825Z  \n",
       "2  2019-09-10T21:10:15.208764Z  \n",
       "3  2022-01-05T18:22:16.895742Z  \n",
       "4  2021-12-10T19:37:43.238743Z  "
      ],
      "text/html": [
       "<div>\n",
       "<style scoped>\n",
       "    .dataframe tbody tr th:only-of-type {\n",
       "        vertical-align: middle;\n",
       "    }\n",
       "\n",
       "    .dataframe tbody tr th {\n",
       "        vertical-align: top;\n",
       "    }\n",
       "\n",
       "    .dataframe thead th {\n",
       "        text-align: right;\n",
       "    }\n",
       "</style>\n",
       "<table border=\"1\" class=\"dataframe\">\n",
       "  <thead>\n",
       "    <tr style=\"text-align: right;\">\n",
       "      <th></th>\n",
       "      <th>Rating</th>\n",
       "      <th>Comment</th>\n",
       "      <th>Date posted</th>\n",
       "    </tr>\n",
       "  </thead>\n",
       "  <tbody>\n",
       "    <tr>\n",
       "      <th>0</th>\n",
       "      <td>TWO</td>\n",
       "      <td>Customer service was very nice. The prices wer...</td>\n",
       "      <td>2022-01-18T16:52:22.018400Z</td>\n",
       "    </tr>\n",
       "    <tr>\n",
       "      <th>1</th>\n",
       "      <td>FIVE</td>\n",
       "      <td>FIVE star</td>\n",
       "      <td>2022-01-06T18:13:54.656825Z</td>\n",
       "    </tr>\n",
       "    <tr>\n",
       "      <th>2</th>\n",
       "      <td>FOUR</td>\n",
       "      <td>FOUR star</td>\n",
       "      <td>2019-09-10T21:10:15.208764Z</td>\n",
       "    </tr>\n",
       "    <tr>\n",
       "      <th>3</th>\n",
       "      <td>FIVE</td>\n",
       "      <td>Oxtails, wow, best around 3 neighboring counti...</td>\n",
       "      <td>2022-01-05T18:22:16.895742Z</td>\n",
       "    </tr>\n",
       "    <tr>\n",
       "      <th>4</th>\n",
       "      <td>FIVE</td>\n",
       "      <td>FIVE star</td>\n",
       "      <td>2021-12-10T19:37:43.238743Z</td>\n",
       "    </tr>\n",
       "  </tbody>\n",
       "</table>\n",
       "</div>"
      ]
     },
     "execution_count": 7,
     "metadata": {},
     "output_type": "execute_result"
    }
   ],
   "execution_count": 7
  },
  {
   "metadata": {
    "ExecuteTime": {
     "end_time": "2025-04-17T09:16:35.561161Z",
     "start_time": "2025-04-17T09:16:35.552299Z"
    }
   },
   "cell_type": "code",
   "source": [
    "# Convert ratings to integers\n",
    "rating_map = {\n",
    "    'TWO':2,\n",
    "    'FIVE':5,\n",
    "    'FOUR':4,\n",
    "    'THREE':3,\n",
    "    'ONE':1\n",
    "              }\n",
    "\n",
    "df['Stars'] = df['Rating'].map(rating_map)\n",
    "df.drop('Rating',axis=1,inplace=True)\n",
    "df.head()"
   ],
   "id": "86ccfc1563757bbc",
   "outputs": [
    {
     "data": {
      "text/plain": [
       "                                             Comment  \\\n",
       "0  Customer service was very nice. The prices wer...   \n",
       "1                                          FIVE star   \n",
       "2                                          FOUR star   \n",
       "3  Oxtails, wow, best around 3 neighboring counti...   \n",
       "4                                          FIVE star   \n",
       "\n",
       "                   Date posted  Stars  \n",
       "0  2022-01-18T16:52:22.018400Z      2  \n",
       "1  2022-01-06T18:13:54.656825Z      5  \n",
       "2  2019-09-10T21:10:15.208764Z      4  \n",
       "3  2022-01-05T18:22:16.895742Z      5  \n",
       "4  2021-12-10T19:37:43.238743Z      5  "
      ],
      "text/html": [
       "<div>\n",
       "<style scoped>\n",
       "    .dataframe tbody tr th:only-of-type {\n",
       "        vertical-align: middle;\n",
       "    }\n",
       "\n",
       "    .dataframe tbody tr th {\n",
       "        vertical-align: top;\n",
       "    }\n",
       "\n",
       "    .dataframe thead th {\n",
       "        text-align: right;\n",
       "    }\n",
       "</style>\n",
       "<table border=\"1\" class=\"dataframe\">\n",
       "  <thead>\n",
       "    <tr style=\"text-align: right;\">\n",
       "      <th></th>\n",
       "      <th>Comment</th>\n",
       "      <th>Date posted</th>\n",
       "      <th>Stars</th>\n",
       "    </tr>\n",
       "  </thead>\n",
       "  <tbody>\n",
       "    <tr>\n",
       "      <th>0</th>\n",
       "      <td>Customer service was very nice. The prices wer...</td>\n",
       "      <td>2022-01-18T16:52:22.018400Z</td>\n",
       "      <td>2</td>\n",
       "    </tr>\n",
       "    <tr>\n",
       "      <th>1</th>\n",
       "      <td>FIVE star</td>\n",
       "      <td>2022-01-06T18:13:54.656825Z</td>\n",
       "      <td>5</td>\n",
       "    </tr>\n",
       "    <tr>\n",
       "      <th>2</th>\n",
       "      <td>FOUR star</td>\n",
       "      <td>2019-09-10T21:10:15.208764Z</td>\n",
       "      <td>4</td>\n",
       "    </tr>\n",
       "    <tr>\n",
       "      <th>3</th>\n",
       "      <td>Oxtails, wow, best around 3 neighboring counti...</td>\n",
       "      <td>2022-01-05T18:22:16.895742Z</td>\n",
       "      <td>5</td>\n",
       "    </tr>\n",
       "    <tr>\n",
       "      <th>4</th>\n",
       "      <td>FIVE star</td>\n",
       "      <td>2021-12-10T19:37:43.238743Z</td>\n",
       "      <td>5</td>\n",
       "    </tr>\n",
       "  </tbody>\n",
       "</table>\n",
       "</div>"
      ]
     },
     "execution_count": 8,
     "metadata": {},
     "output_type": "execute_result"
    }
   ],
   "execution_count": 8
  },
  {
   "metadata": {
    "ExecuteTime": {
     "end_time": "2025-04-17T09:16:37.831445Z",
     "start_time": "2025-04-17T09:16:37.696225Z"
    }
   },
   "cell_type": "code",
   "source": [
    "# Plot the count of each rating\n",
    "score_counts = df['Stars'].value_counts()\n",
    "ax = score_counts.sort_index(ascending=True).plot(kind='bar',\n",
    "                                    title = 'Count of Reviews by Stars',\n",
    "                                    figsize = (6,4),\n",
    "                                    rot = 360\n",
    "                                    )\n",
    "\n",
    "plt.grid(True)\n",
    "plt.show()"
   ],
   "id": "9768d3b3b0768e4b",
   "outputs": [
    {
     "data": {
      "text/plain": [
       "<Figure size 600x400 with 1 Axes>"
      ],
      "image/png": "[encoded data removed]"
     },
     "metadata": {},
     "output_type": "display_data"
    }
   ],
   "execution_count": 9
  },
  {
   "metadata": {
    "ExecuteTime": {
     "end_time": "2025-04-17T09:16:43.731537Z",
     "start_time": "2025-04-17T09:16:43.724310Z"
    }
   },
   "cell_type": "code",
   "source": [
    "# Reorder the columns\n",
    "df = df[['Stars','Comment', 'clean_text','Date posted']]\n",
    "df.head()"
   ],
   "id": "271182dca5d6d8a9",
   "outputs": [
    {
     "data": {
      "text/plain": [
       "   Stars                                            Comment  \\\n",
       "0      2  Customer service was very nice. The prices wer...   \n",
       "1      5                                          FIVE star   \n",
       "2      4                                          FOUR star   \n",
       "3      5  Oxtails, wow, best around 3 neighboring counti...   \n",
       "4      5                                          FIVE star   \n",
       "\n",
       "                                          clean_text  \\\n",
       "0  customer service nice prices ok good caribbean...   \n",
       "1                                          five star   \n",
       "2                                          four star   \n",
       "3  oxtails wow best around 3 neighboring counties...   \n",
       "4                                          five star   \n",
       "\n",
       "                   Date posted  \n",
       "0  2022-01-18T16:52:22.018400Z  \n",
       "1  2022-01-06T18:13:54.656825Z  \n",
       "2  2019-09-10T21:10:15.208764Z  \n",
       "3  2022-01-05T18:22:16.895742Z  \n",
       "4  2021-12-10T19:37:43.238743Z  "
      ],
      "text/html": [
       "<div>\n",
       "<style scoped>\n",
       "    .dataframe tbody tr th:only-of-type {\n",
       "        vertical-align: middle;\n",
       "    }\n",
       "\n",
       "    .dataframe tbody tr th {\n",
       "        vertical-align: top;\n",
       "    }\n",
       "\n",
       "    .dataframe thead th {\n",
       "        text-align: right;\n",
       "    }\n",
       "</style>\n",
       "<table border=\"1\" class=\"dataframe\">\n",
       "  <thead>\n",
       "    <tr style=\"text-align: right;\">\n",
       "      <th></th>\n",
       "      <th>Stars</th>\n",
       "      <th>Comment</th>\n",
       "      <th>clean_text</th>\n",
       "      <th>Date posted</th>\n",
       "    </tr>\n",
       "  </thead>\n",
       "  <tbody>\n",
       "    <tr>\n",
       "      <th>0</th>\n",
       "      <td>2</td>\n",
       "      <td>Customer service was very nice. The prices wer...</td>\n",
       "      <td>customer service nice prices ok good caribbean...</td>\n",
       "      <td>2022-01-18T16:52:22.018400Z</td>\n",
       "    </tr>\n",
       "    <tr>\n",
       "      <th>1</th>\n",
       "      <td>5</td>\n",
       "      <td>FIVE star</td>\n",
       "      <td>five star</td>\n",
       "      <td>2022-01-06T18:13:54.656825Z</td>\n",
       "    </tr>\n",
       "    <tr>\n",
       "      <th>2</th>\n",
       "      <td>4</td>\n",
       "      <td>FOUR star</td>\n",
       "      <td>four star</td>\n",
       "      <td>2019-09-10T21:10:15.208764Z</td>\n",
       "    </tr>\n",
       "    <tr>\n",
       "      <th>3</th>\n",
       "      <td>5</td>\n",
       "      <td>Oxtails, wow, best around 3 neighboring counti...</td>\n",
       "      <td>oxtails wow best around 3 neighboring counties...</td>\n",
       "      <td>2022-01-05T18:22:16.895742Z</td>\n",
       "    </tr>\n",
       "    <tr>\n",
       "      <th>4</th>\n",
       "      <td>5</td>\n",
       "      <td>FIVE star</td>\n",
       "      <td>five star</td>\n",
       "      <td>2021-12-10T19:37:43.238743Z</td>\n",
       "    </tr>\n",
       "  </tbody>\n",
       "</table>\n",
       "</div>"
      ]
     },
     "execution_count": 12,
     "metadata": {},
     "output_type": "execute_result"
    }
   ],
   "execution_count": 12
  },
  {
   "metadata": {
    "ExecuteTime": {
     "end_time": "2025-04-17T10:56:42.339021Z",
     "start_time": "2025-04-17T10:56:42.310266Z"
    }
   },
   "cell_type": "code",
   "source": [
    "# Clean text\n",
    "def clean_text(text):\n",
    "    if not isinstance(text,str): # Ensures that the text is actually a string\n",
    "        return \"\" # Returns an empty string in cases where input was not text\n",
    "\n",
    "    text = text.lower()\n",
    "    text = re.sub(r\"[^\\w\\s]\", \" \", text)\n",
    "\n",
    "    tokens = word_tokenize(text) # Breaks the string into a list of words\n",
    "\n",
    "    cleaned_tokens = [\n",
    "        lemmatizer.lemmatize(word,pos='v')\n",
    "        for word in tokens\n",
    "        if word not in stop_words and word.isalpha()\n",
    "    ]\n",
    "    return ' '.join(cleaned_tokens)\n",
    "\n",
    "df['clean_text'] = df['Comment'].apply(clean_text)\n",
    "df.head()"
   ],
   "id": "65afe5d90780e7e",
   "outputs": [
    {
     "data": {
      "text/plain": [
       "   Stars                                            Comment  \\\n",
       "0      2  Customer service was very nice. The prices wer...   \n",
       "1      5                                          FIVE star   \n",
       "2      4                                          FOUR star   \n",
       "3      5  Oxtails, wow, best around 3 neighboring counti...   \n",
       "4      5                                          FIVE star   \n",
       "\n",
       "                                          clean_text  \\\n",
       "0  customer service nice price ok good caribbean ...   \n",
       "1                                          five star   \n",
       "2                                          four star   \n",
       "3  oxtails wow best around neighbor counties stop...   \n",
       "4                                          five star   \n",
       "\n",
       "                   Date posted  \n",
       "0  2022-01-18T16:52:22.018400Z  \n",
       "1  2022-01-06T18:13:54.656825Z  \n",
       "2  2019-09-10T21:10:15.208764Z  \n",
       "3  2022-01-05T18:22:16.895742Z  \n",
       "4  2021-12-10T19:37:43.238743Z  "
      ],
      "text/html": [
       "<div>\n",
       "<style scoped>\n",
       "    .dataframe tbody tr th:only-of-type {\n",
       "        vertical-align: middle;\n",
       "    }\n",
       "\n",
       "    .dataframe tbody tr th {\n",
       "        vertical-align: top;\n",
       "    }\n",
       "\n",
       "    .dataframe thead th {\n",
       "        text-align: right;\n",
       "    }\n",
       "</style>\n",
       "<table border=\"1\" class=\"dataframe\">\n",
       "  <thead>\n",
       "    <tr style=\"text-align: right;\">\n",
       "      <th></th>\n",
       "      <th>Stars</th>\n",
       "      <th>Comment</th>\n",
       "      <th>clean_text</th>\n",
       "      <th>Date posted</th>\n",
       "    </tr>\n",
       "  </thead>\n",
       "  <tbody>\n",
       "    <tr>\n",
       "      <th>0</th>\n",
       "      <td>2</td>\n",
       "      <td>Customer service was very nice. The prices wer...</td>\n",
       "      <td>customer service nice price ok good caribbean ...</td>\n",
       "      <td>2022-01-18T16:52:22.018400Z</td>\n",
       "    </tr>\n",
       "    <tr>\n",
       "      <th>1</th>\n",
       "      <td>5</td>\n",
       "      <td>FIVE star</td>\n",
       "      <td>five star</td>\n",
       "      <td>2022-01-06T18:13:54.656825Z</td>\n",
       "    </tr>\n",
       "    <tr>\n",
       "      <th>2</th>\n",
       "      <td>4</td>\n",
       "      <td>FOUR star</td>\n",
       "      <td>four star</td>\n",
       "      <td>2019-09-10T21:10:15.208764Z</td>\n",
       "    </tr>\n",
       "    <tr>\n",
       "      <th>3</th>\n",
       "      <td>5</td>\n",
       "      <td>Oxtails, wow, best around 3 neighboring counti...</td>\n",
       "      <td>oxtails wow best around neighbor counties stop...</td>\n",
       "      <td>2022-01-05T18:22:16.895742Z</td>\n",
       "    </tr>\n",
       "    <tr>\n",
       "      <th>4</th>\n",
       "      <td>5</td>\n",
       "      <td>FIVE star</td>\n",
       "      <td>five star</td>\n",
       "      <td>2021-12-10T19:37:43.238743Z</td>\n",
       "    </tr>\n",
       "  </tbody>\n",
       "</table>\n",
       "</div>"
      ]
     },
     "execution_count": 51,
     "metadata": {},
     "output_type": "execute_result"
    }
   ],
   "execution_count": 51
  },
  {
   "metadata": {
    "ExecuteTime": {
     "end_time": "2025-04-17T10:56:44.423395Z",
     "start_time": "2025-04-17T10:56:44.418995Z"
    }
   },
   "cell_type": "code",
   "source": [
    "# Manually checking that comments were cleaned\n",
    "import random\n",
    "i = random.randint(0,len(df))\n",
    "print(i)\n",
    "print(\"Original:\", df.loc[i, 'Comment'])\n",
    "print('\\n')\n",
    "print('Cleaned:', df.loc[i, 'clean_text'])"
   ],
   "id": "a24a7542b052dde3",
   "outputs": [
    {
     "name": "stdout",
     "output_type": "stream",
     "text": [
      "262\n",
      "Original: Quick service, clean environment. Friendly servers. 100% recommend.\n",
      "\n",
      "\n",
      "Cleaned: quick service clean environment friendly servers recommend\n"
     ]
    }
   ],
   "execution_count": 52
  },
  {
   "metadata": {
    "ExecuteTime": {
     "end_time": "2025-04-17T10:56:51.060837Z",
     "start_time": "2025-04-17T10:56:51.054733Z"
    }
   },
   "cell_type": "code",
   "source": "df.to_csv('/Users/jahdovanterpool/Downloads/Sylvia/local_sentiment_project.csv', index=False)",
   "id": "8f7ee817f0f3c4c7",
   "outputs": [],
   "execution_count": 53
  },
  {
   "metadata": {},
   "cell_type": "markdown",
   "source": "### Sentiment - Vader",
   "id": "99d7fcd2be330c7a"
  },
  {
   "metadata": {
    "ExecuteTime": {
     "end_time": "2025-04-17T10:48:46.851956Z",
     "start_time": "2025-04-17T10:48:46.837487Z"
    }
   },
   "cell_type": "code",
   "source": [
    "from nltk.sentiment import SentimentIntensityAnalyzer\n",
    "sia = SentimentIntensityAnalyzer()"
   ],
   "id": "2cbd7e01c1aeee73",
   "outputs": [],
   "execution_count": 45
  },
  {
   "metadata": {
    "ExecuteTime": {
     "end_time": "2025-04-17T11:46:14.733837Z",
     "start_time": "2025-04-17T11:46:14.722596Z"
    }
   },
   "cell_type": "code",
   "source": [
    "vader_df = pd.read_csv('/Users/jahdovanterpool/Downloads/Sylvia/local_sentiment_project.csv', index_col=False)\n",
    "vader_df.sample(10)"
   ],
   "id": "790f9f8358beb5cf",
   "outputs": [
    {
     "data": {
      "text/plain": [
       "     Stars                                            Comment  \\\n",
       "15       4  Excellent jerk chicken, oxtails and curry goat...   \n",
       "83       4                                          FOUR star   \n",
       "24       5                                          FIVE star   \n",
       "114      5  As always, the food was fabulous... we had the...   \n",
       "283      4                                          FOUR star   \n",
       "3        5  Oxtails, wow, best around 3 neighboring counti...   \n",
       "107      5                                          FIVE star   \n",
       "183      1  I’m standing in line waiting to be helped for ...   \n",
       "280      5                                          FIVE star   \n",
       "128      5                                    Very good food.   \n",
       "\n",
       "                                            clean_text  \\\n",
       "15   excellent jerk chicken oxtails curry goat cert...   \n",
       "83                                           four star   \n",
       "24                                           five star   \n",
       "114  always food fabulous oxtails rice bean coconut...   \n",
       "283                                          four star   \n",
       "3    oxtails wow best around neighbor counties stop...   \n",
       "107                                          five star   \n",
       "183  stand line wait help mins owner come help pers...   \n",
       "280                                          five star   \n",
       "128                                          good food   \n",
       "\n",
       "                     Date posted  \n",
       "15   2021-09-25T23:33:20.037293Z  \n",
       "83   2022-06-24T23:24:05.566380Z  \n",
       "24   2021-01-06T17:52:03.981947Z  \n",
       "114  2020-07-03T22:18:11.948560Z  \n",
       "283  2022-11-15T08:43:03.079427Z  \n",
       "3    2022-01-05T18:22:16.895742Z  \n",
       "107  2020-08-04T03:06:13.534453Z  \n",
       "183  2023-10-19T21:07:53.013090Z  \n",
       "280  2023-03-06T12:35:33.593156Z  \n",
       "128     2016-04-10T15:51:47.695Z  "
      ],
      "text/html": [
       "<div>\n",
       "<style scoped>\n",
       "    .dataframe tbody tr th:only-of-type {\n",
       "        vertical-align: middle;\n",
       "    }\n",
       "\n",
       "    .dataframe tbody tr th {\n",
       "        vertical-align: top;\n",
       "    }\n",
       "\n",
       "    .dataframe thead th {\n",
       "        text-align: right;\n",
       "    }\n",
       "</style>\n",
       "<table border=\"1\" class=\"dataframe\">\n",
       "  <thead>\n",
       "    <tr style=\"text-align: right;\">\n",
       "      <th></th>\n",
       "      <th>Stars</th>\n",
       "      <th>Comment</th>\n",
       "      <th>clean_text</th>\n",
       "      <th>Date posted</th>\n",
       "    </tr>\n",
       "  </thead>\n",
       "  <tbody>\n",
       "    <tr>\n",
       "      <th>15</th>\n",
       "      <td>4</td>\n",
       "      <td>Excellent jerk chicken, oxtails and curry goat...</td>\n",
       "      <td>excellent jerk chicken oxtails curry goat cert...</td>\n",
       "      <td>2021-09-25T23:33:20.037293Z</td>\n",
       "    </tr>\n",
       "    <tr>\n",
       "      <th>83</th>\n",
       "      <td>4</td>\n",
       "      <td>FOUR star</td>\n",
       "      <td>four star</td>\n",
       "      <td>2022-06-24T23:24:05.566380Z</td>\n",
       "    </tr>\n",
       "    <tr>\n",
       "      <th>24</th>\n",
       "      <td>5</td>\n",
       "      <td>FIVE star</td>\n",
       "      <td>five star</td>\n",
       "      <td>2021-01-06T17:52:03.981947Z</td>\n",
       "    </tr>\n",
       "    <tr>\n",
       "      <th>114</th>\n",
       "      <td>5</td>\n",
       "      <td>As always, the food was fabulous... we had the...</td>\n",
       "      <td>always food fabulous oxtails rice bean coconut...</td>\n",
       "      <td>2020-07-03T22:18:11.948560Z</td>\n",
       "    </tr>\n",
       "    <tr>\n",
       "      <th>283</th>\n",
       "      <td>4</td>\n",
       "      <td>FOUR star</td>\n",
       "      <td>four star</td>\n",
       "      <td>2022-11-15T08:43:03.079427Z</td>\n",
       "    </tr>\n",
       "    <tr>\n",
       "      <th>3</th>\n",
       "      <td>5</td>\n",
       "      <td>Oxtails, wow, best around 3 neighboring counti...</td>\n",
       "      <td>oxtails wow best around neighbor counties stop...</td>\n",
       "      <td>2022-01-05T18:22:16.895742Z</td>\n",
       "    </tr>\n",
       "    <tr>\n",
       "      <th>107</th>\n",
       "      <td>5</td>\n",
       "      <td>FIVE star</td>\n",
       "      <td>five star</td>\n",
       "      <td>2020-08-04T03:06:13.534453Z</td>\n",
       "    </tr>\n",
       "    <tr>\n",
       "      <th>183</th>\n",
       "      <td>1</td>\n",
       "      <td>I’m standing in line waiting to be helped for ...</td>\n",
       "      <td>stand line wait help mins owner come help pers...</td>\n",
       "      <td>2023-10-19T21:07:53.013090Z</td>\n",
       "    </tr>\n",
       "    <tr>\n",
       "      <th>280</th>\n",
       "      <td>5</td>\n",
       "      <td>FIVE star</td>\n",
       "      <td>five star</td>\n",
       "      <td>2023-03-06T12:35:33.593156Z</td>\n",
       "    </tr>\n",
       "    <tr>\n",
       "      <th>128</th>\n",
       "      <td>5</td>\n",
       "      <td>Very good food.</td>\n",
       "      <td>good food</td>\n",
       "      <td>2016-04-10T15:51:47.695Z</td>\n",
       "    </tr>\n",
       "  </tbody>\n",
       "</table>\n",
       "</div>"
      ]
     },
     "execution_count": 83,
     "metadata": {},
     "output_type": "execute_result"
    }
   ],
   "execution_count": 83
  },
  {
   "metadata": {
    "ExecuteTime": {
     "end_time": "2025-04-17T11:46:15.329066Z",
     "start_time": "2025-04-17T11:46:15.299306Z"
    }
   },
   "cell_type": "code",
   "source": [
    "vader_df['sentiment_score'] = vader_df['clean_text'].apply(lambda x: sia.polarity_scores(x)['compound'])\n",
    "\n",
    "def star_sentiment(stars):\n",
    "    if stars >= 4:\n",
    "        return 'Positive'\n",
    "    elif stars == 3:\n",
    "        return 'Neutral'\n",
    "    else:\n",
    "        return 'Negative'\n",
    "\n",
    "def label_sentiment(score):\n",
    "    if score >= 0.5:\n",
    "        return 'Positive'\n",
    "    elif score < -0.1:\n",
    "        return 'Negative'\n",
    "    else:\n",
    "        return 'Neutral'\n",
    "\n",
    "vader_df['sentiment_label'] = vader_df['sentiment_score'].apply(lambda x: label_sentiment(x))\n",
    "vader_df['star_sentiment_label'] = vader_df['Stars'].apply(lambda x: star_sentiment(x))\n",
    "\n",
    "df.sample(10)"
   ],
   "id": "5a1f0b39ba79e80b",
   "outputs": [
    {
     "data": {
      "text/plain": [
       "     Stars                                            Comment  \\\n",
       "254      5  Spectacular food, curry goat and jerk chicken ...   \n",
       "196      3                                         THREE star   \n",
       "82       5                        A place you must go to eat.   \n",
       "179      4  Good food some days u can order quick some day...   \n",
       "61       4            Great food and everyone was so friendly   \n",
       "23       5                                          FIVE star   \n",
       "17       5                                          FIVE star   \n",
       "163      5   When you eat there..its like you are in jamaica!   \n",
       "195      5  This place has authentic Jamaican food.  The f...   \n",
       "63       5  I literally live for their soups every winter!...   \n",
       "\n",
       "                                            clean_text  \\\n",
       "254  spectacular food curry goat jerk chicken highl...   \n",
       "196                                         three star   \n",
       "82                                   place must go eat   \n",
       "179  good food days u order quick days u wait line ...   \n",
       "61                        great food everyone friendly   \n",
       "23                                           five star   \n",
       "17                                           five star   \n",
       "163                                   eat like jamaica   \n",
       "195  place authentic jamaican food food tasty servi...   \n",
       "63   literally live soup every winter love keep tra...   \n",
       "\n",
       "                     Date posted  sentiment_score sentiment_label  \\\n",
       "254  2019-03-22T17:05:20.124934Z           0.9396        Positive   \n",
       "196     2018-02-13T01:39:10.849Z           0.0000         Neutral   \n",
       "82      2018-06-02T10:21:07.801Z           0.0000         Neutral   \n",
       "179  2024-01-14T23:48:58.832284Z           0.7003        Positive   \n",
       "61   2020-02-27T12:58:04.031835Z           0.8074        Positive   \n",
       "23   2021-01-09T15:54:11.519888Z           0.0000         Neutral   \n",
       "17   2021-09-22T13:50:25.671941Z           0.0000         Neutral   \n",
       "163  2021-06-27T15:40:16.928016Z           0.3612         Neutral   \n",
       "195     2018-02-22T20:41:43.320Z           0.5719        Positive   \n",
       "63   2020-02-06T21:17:58.051975Z           0.9274        Positive   \n",
       "\n",
       "    star_sentiment_label  match  \n",
       "254             Positive   True  \n",
       "196              Neutral   True  \n",
       "82              Positive  False  \n",
       "179             Positive   True  \n",
       "61              Positive   True  \n",
       "23              Positive  False  \n",
       "17              Positive  False  \n",
       "163             Positive  False  \n",
       "195             Positive   True  \n",
       "63              Positive   True  "
      ],
      "text/html": [
       "<div>\n",
       "<style scoped>\n",
       "    .dataframe tbody tr th:only-of-type {\n",
       "        vertical-align: middle;\n",
       "    }\n",
       "\n",
       "    .dataframe tbody tr th {\n",
       "        vertical-align: top;\n",
       "    }\n",
       "\n",
       "    .dataframe thead th {\n",
       "        text-align: right;\n",
       "    }\n",
       "</style>\n",
       "<table border=\"1\" class=\"dataframe\">\n",
       "  <thead>\n",
       "    <tr style=\"text-align: right;\">\n",
       "      <th></th>\n",
       "      <th>Stars</th>\n",
       "      <th>Comment</th>\n",
       "      <th>clean_text</th>\n",
       "      <th>Date posted</th>\n",
       "      <th>sentiment_score</th>\n",
       "      <th>sentiment_label</th>\n",
       "      <th>star_sentiment_label</th>\n",
       "      <th>match</th>\n",
       "    </tr>\n",
       "  </thead>\n",
       "  <tbody>\n",
       "    <tr>\n",
       "      <th>254</th>\n",
       "      <td>5</td>\n",
       "      <td>Spectacular food, curry goat and jerk chicken ...</td>\n",
       "      <td>spectacular food curry goat jerk chicken highl...</td>\n",
       "      <td>2019-03-22T17:05:20.124934Z</td>\n",
       "      <td>0.9396</td>\n",
       "      <td>Positive</td>\n",
       "      <td>Positive</td>\n",
       "      <td>True</td>\n",
       "    </tr>\n",
       "    <tr>\n",
       "      <th>196</th>\n",
       "      <td>3</td>\n",
       "      <td>THREE star</td>\n",
       "      <td>three star</td>\n",
       "      <td>2018-02-13T01:39:10.849Z</td>\n",
       "      <td>0.0000</td>\n",
       "      <td>Neutral</td>\n",
       "      <td>Neutral</td>\n",
       "      <td>True</td>\n",
       "    </tr>\n",
       "    <tr>\n",
       "      <th>82</th>\n",
       "      <td>5</td>\n",
       "      <td>A place you must go to eat.</td>\n",
       "      <td>place must go eat</td>\n",
       "      <td>2018-06-02T10:21:07.801Z</td>\n",
       "      <td>0.0000</td>\n",
       "      <td>Neutral</td>\n",
       "      <td>Positive</td>\n",
       "      <td>False</td>\n",
       "    </tr>\n",
       "    <tr>\n",
       "      <th>179</th>\n",
       "      <td>4</td>\n",
       "      <td>Good food some days u can order quick some day...</td>\n",
       "      <td>good food days u order quick days u wait line ...</td>\n",
       "      <td>2024-01-14T23:48:58.832284Z</td>\n",
       "      <td>0.7003</td>\n",
       "      <td>Positive</td>\n",
       "      <td>Positive</td>\n",
       "      <td>True</td>\n",
       "    </tr>\n",
       "    <tr>\n",
       "      <th>61</th>\n",
       "      <td>4</td>\n",
       "      <td>Great food and everyone was so friendly</td>\n",
       "      <td>great food everyone friendly</td>\n",
       "      <td>2020-02-27T12:58:04.031835Z</td>\n",
       "      <td>0.8074</td>\n",
       "      <td>Positive</td>\n",
       "      <td>Positive</td>\n",
       "      <td>True</td>\n",
       "    </tr>\n",
       "    <tr>\n",
       "      <th>23</th>\n",
       "      <td>5</td>\n",
       "      <td>FIVE star</td>\n",
       "      <td>five star</td>\n",
       "      <td>2021-01-09T15:54:11.519888Z</td>\n",
       "      <td>0.0000</td>\n",
       "      <td>Neutral</td>\n",
       "      <td>Positive</td>\n",
       "      <td>False</td>\n",
       "    </tr>\n",
       "    <tr>\n",
       "      <th>17</th>\n",
       "      <td>5</td>\n",
       "      <td>FIVE star</td>\n",
       "      <td>five star</td>\n",
       "      <td>2021-09-22T13:50:25.671941Z</td>\n",
       "      <td>0.0000</td>\n",
       "      <td>Neutral</td>\n",
       "      <td>Positive</td>\n",
       "      <td>False</td>\n",
       "    </tr>\n",
       "    <tr>\n",
       "      <th>163</th>\n",
       "      <td>5</td>\n",
       "      <td>When you eat there..its like you are in jamaica!</td>\n",
       "      <td>eat like jamaica</td>\n",
       "      <td>2021-06-27T15:40:16.928016Z</td>\n",
       "      <td>0.3612</td>\n",
       "      <td>Neutral</td>\n",
       "      <td>Positive</td>\n",
       "      <td>False</td>\n",
       "    </tr>\n",
       "    <tr>\n",
       "      <th>195</th>\n",
       "      <td>5</td>\n",
       "      <td>This place has authentic Jamaican food.  The f...</td>\n",
       "      <td>place authentic jamaican food food tasty servi...</td>\n",
       "      <td>2018-02-22T20:41:43.320Z</td>\n",
       "      <td>0.5719</td>\n",
       "      <td>Positive</td>\n",
       "      <td>Positive</td>\n",
       "      <td>True</td>\n",
       "    </tr>\n",
       "    <tr>\n",
       "      <th>63</th>\n",
       "      <td>5</td>\n",
       "      <td>I literally live for their soups every winter!...</td>\n",
       "      <td>literally live soup every winter love keep tra...</td>\n",
       "      <td>2020-02-06T21:17:58.051975Z</td>\n",
       "      <td>0.9274</td>\n",
       "      <td>Positive</td>\n",
       "      <td>Positive</td>\n",
       "      <td>True</td>\n",
       "    </tr>\n",
       "  </tbody>\n",
       "</table>\n",
       "</div>"
      ]
     },
     "execution_count": 84,
     "metadata": {},
     "output_type": "execute_result"
    }
   ],
   "execution_count": 84
  },
  {
   "metadata": {
    "ExecuteTime": {
     "end_time": "2025-04-17T11:46:22.630538Z",
     "start_time": "2025-04-17T11:46:22.625625Z"
    }
   },
   "cell_type": "code",
   "source": [
    "vader_df['match'] = vader_df['sentiment_label'] == vader_df['star_sentiment_label']\n",
    "vader_df['match'].value_counts()"
   ],
   "id": "3c5e4acc2435b25a",
   "outputs": [
    {
     "data": {
      "text/plain": [
       "match\n",
       "True     146\n",
       "False    145\n",
       "Name: count, dtype: int64"
      ]
     },
     "execution_count": 85,
     "metadata": {},
     "output_type": "execute_result"
    }
   ],
   "execution_count": 85
  },
  {
   "metadata": {
    "ExecuteTime": {
     "end_time": "2025-04-17T11:46:24.667564Z",
     "start_time": "2025-04-17T11:46:24.604835Z"
    }
   },
   "cell_type": "code",
   "source": [
    "agreement_by_star = vader_df.groupby('Stars')['match'].mean()\n",
    "agreement_by_star.plot(kind='bar', title='Agreement Rate Between Rating and Text Sentiment')"
   ],
   "id": "2847ddbf800cc914",
   "outputs": [
    {
     "data": {
      "text/plain": [
       "<Axes: title={'center': 'Agreement Rate Between Rating and Text Sentiment'}, xlabel='Stars'>"
      ]
     },
     "execution_count": 86,
     "metadata": {},
     "output_type": "execute_result"
    },
    {
     "data": {
      "text/plain": [
       "<Figure size 640x480 with 1 Axes>"
      ],
      "image/png": "[encoded data removed]"
     },
     "metadata": {},
     "output_type": "display_data"
    }
   ],
   "execution_count": 86
  },
  {
   "metadata": {},
   "cell_type": "code",
   "outputs": [],
   "execution_count": null,
   "source": "",
   "id": "586084d7ab995165"
  },
  {
   "metadata": {},
   "cell_type": "markdown",
   "source": "### Sentiment - Transformer",
   "id": "cc7854fced67cce9"
  },
  {
   "metadata": {
    "ExecuteTime": {
     "end_time": "2025-04-18T10:56:49.229983Z",
     "start_time": "2025-04-18T10:56:49.217293Z"
    }
   },
   "cell_type": "code",
   "source": [
    "df = pd.read_csv('/Users/jahdovanterpool/Downloads/Sylvia/local_sentiment_project.csv', index_col=False)\n",
    "df.sample(10)"
   ],
   "id": "db30f73eb5dfba08",
   "outputs": [
    {
     "data": {
      "text/plain": [
       "     Stars                                            Comment  \\\n",
       "24       5                                          FIVE star   \n",
       "157      3  Forgot some of my food that i ordered and they...   \n",
       "238      5  Best Jamaican restaurant in Dutchess County!!!...   \n",
       "239      5                                          FIVE star   \n",
       "12       3                                         THREE star   \n",
       "235      5                                          FIVE star   \n",
       "123      4  Very nice family-owned restaurant. Love the fo...   \n",
       "124      5  This is the best Jamaican restaurant in NY..Wo...   \n",
       "195      5  This place has authentic Jamaican food.  The f...   \n",
       "164      3  The food was so-so. I got the stewed chicken, ...   \n",
       "\n",
       "                                            clean_text  \\\n",
       "24                                           five star   \n",
       "157          forget food order never really mess order   \n",
       "238  best jamaican restaurant dutchess county food ...   \n",
       "239                                          five star   \n",
       "12                                          three star   \n",
       "235                                          five star   \n",
       "123  nice family own restaurant love food faves dai...   \n",
       "124  best jamaican restaurant ny wonderful experien...   \n",
       "195  place authentic jamaican food food tasty servi...   \n",
       "164  food get stew chicken cabbage white rice chick...   \n",
       "\n",
       "                     Date posted  \n",
       "24   2021-01-06T17:52:03.981947Z  \n",
       "157  2021-08-10T20:59:01.975673Z  \n",
       "238  2025-01-17T18:59:04.089718Z  \n",
       "239  2024-12-16T13:10:08.422044Z  \n",
       "12   2021-10-14T16:18:51.077650Z  \n",
       "235  2025-02-18T21:02:38.986581Z  \n",
       "123     2017-05-28T03:05:26.035Z  \n",
       "124     2017-02-16T22:46:00.738Z  \n",
       "195     2018-02-22T20:41:43.320Z  \n",
       "164  2021-06-25T18:58:33.792708Z  "
      ],
      "text/html": [
       "<div>\n",
       "<style scoped>\n",
       "    .dataframe tbody tr th:only-of-type {\n",
       "        vertical-align: middle;\n",
       "    }\n",
       "\n",
       "    .dataframe tbody tr th {\n",
       "        vertical-align: top;\n",
       "    }\n",
       "\n",
       "    .dataframe thead th {\n",
       "        text-align: right;\n",
       "    }\n",
       "</style>\n",
       "<table border=\"1\" class=\"dataframe\">\n",
       "  <thead>\n",
       "    <tr style=\"text-align: right;\">\n",
       "      <th></th>\n",
       "      <th>Stars</th>\n",
       "      <th>Comment</th>\n",
       "      <th>clean_text</th>\n",
       "      <th>Date posted</th>\n",
       "    </tr>\n",
       "  </thead>\n",
       "  <tbody>\n",
       "    <tr>\n",
       "      <th>24</th>\n",
       "      <td>5</td>\n",
       "      <td>FIVE star</td>\n",
       "      <td>five star</td>\n",
       "      <td>2021-01-06T17:52:03.981947Z</td>\n",
       "    </tr>\n",
       "    <tr>\n",
       "      <th>157</th>\n",
       "      <td>3</td>\n",
       "      <td>Forgot some of my food that i ordered and they...</td>\n",
       "      <td>forget food order never really mess order</td>\n",
       "      <td>2021-08-10T20:59:01.975673Z</td>\n",
       "    </tr>\n",
       "    <tr>\n",
       "      <th>238</th>\n",
       "      <td>5</td>\n",
       "      <td>Best Jamaican restaurant in Dutchess County!!!...</td>\n",
       "      <td>best jamaican restaurant dutchess county food ...</td>\n",
       "      <td>2025-01-17T18:59:04.089718Z</td>\n",
       "    </tr>\n",
       "    <tr>\n",
       "      <th>239</th>\n",
       "      <td>5</td>\n",
       "      <td>FIVE star</td>\n",
       "      <td>five star</td>\n",
       "      <td>2024-12-16T13:10:08.422044Z</td>\n",
       "    </tr>\n",
       "    <tr>\n",
       "      <th>12</th>\n",
       "      <td>3</td>\n",
       "      <td>THREE star</td>\n",
       "      <td>three star</td>\n",
       "      <td>2021-10-14T16:18:51.077650Z</td>\n",
       "    </tr>\n",
       "    <tr>\n",
       "      <th>235</th>\n",
       "      <td>5</td>\n",
       "      <td>FIVE star</td>\n",
       "      <td>five star</td>\n",
       "      <td>2025-02-18T21:02:38.986581Z</td>\n",
       "    </tr>\n",
       "    <tr>\n",
       "      <th>123</th>\n",
       "      <td>4</td>\n",
       "      <td>Very nice family-owned restaurant. Love the fo...</td>\n",
       "      <td>nice family own restaurant love food faves dai...</td>\n",
       "      <td>2017-05-28T03:05:26.035Z</td>\n",
       "    </tr>\n",
       "    <tr>\n",
       "      <th>124</th>\n",
       "      <td>5</td>\n",
       "      <td>This is the best Jamaican restaurant in NY..Wo...</td>\n",
       "      <td>best jamaican restaurant ny wonderful experien...</td>\n",
       "      <td>2017-02-16T22:46:00.738Z</td>\n",
       "    </tr>\n",
       "    <tr>\n",
       "      <th>195</th>\n",
       "      <td>5</td>\n",
       "      <td>This place has authentic Jamaican food.  The f...</td>\n",
       "      <td>place authentic jamaican food food tasty servi...</td>\n",
       "      <td>2018-02-22T20:41:43.320Z</td>\n",
       "    </tr>\n",
       "    <tr>\n",
       "      <th>164</th>\n",
       "      <td>3</td>\n",
       "      <td>The food was so-so. I got the stewed chicken, ...</td>\n",
       "      <td>food get stew chicken cabbage white rice chick...</td>\n",
       "      <td>2021-06-25T18:58:33.792708Z</td>\n",
       "    </tr>\n",
       "  </tbody>\n",
       "</table>\n",
       "</div>"
      ]
     },
     "execution_count": 3,
     "metadata": {},
     "output_type": "execute_result"
    }
   ],
   "execution_count": 3
  },
  {
   "metadata": {
    "ExecuteTime": {
     "end_time": "2025-04-18T12:15:41.861287Z",
     "start_time": "2025-04-18T12:15:41.858566Z"
    }
   },
   "cell_type": "code",
   "source": [
    "import warnings\n",
    "warnings.filterwarnings('ignore')\n",
    "from transformers import AutoTokenizer, AutoModelForSequenceClassification, pipeline"
   ],
   "id": "15a28cb3d147f1d",
   "outputs": [],
   "execution_count": 5
  },
  {
   "metadata": {
    "ExecuteTime": {
     "end_time": "2025-04-18T12:25:44.009383Z",
     "start_time": "2025-04-18T12:25:39.306307Z"
    }
   },
   "cell_type": "code",
   "source": [
    "model_name = 'nlptown/bert-base-multilingual-uncased-sentiment'\n",
    "tokenizer = AutoTokenizer.from_pretrained(model_name)\n",
    "model = AutoModelForSequenceClassification.from_pretrained(model_name)\n",
    "sentiment_pipeline = pipeline('sentiment-analysis', model=model, tokenizer=tokenizer, framework='pt')\n",
    "\n",
    "df['sentiment'] = df['clean_text'].apply(lambda x: int(sentiment_pipeline(x[:512])[0]['label'].split()[0]))\n",
    "df.head()"
   ],
   "id": "d559d07f4135cbaa",
   "outputs": [
    {
     "name": "stderr",
     "output_type": "stream",
     "text": [
      "Device set to use mps:0\n"
     ]
    },
    {
     "data": {
      "text/plain": [
       "   Stars                                            Comment  \\\n",
       "0      2  Customer service was very nice. The prices wer...   \n",
       "1      5                                          FIVE star   \n",
       "2      4                                          FOUR star   \n",
       "3      5  Oxtails, wow, best around 3 neighboring counti...   \n",
       "4      5                                          FIVE star   \n",
       "\n",
       "                                          clean_text  \\\n",
       "0  customer service nice price ok good caribbean ...   \n",
       "1                                          five star   \n",
       "2                                          four star   \n",
       "3  oxtails wow best around neighbor counties stop...   \n",
       "4                                          five star   \n",
       "\n",
       "                   Date posted  sentiment  \n",
       "0  2022-01-18T16:52:22.018400Z          3  \n",
       "1  2022-01-06T18:13:54.656825Z          5  \n",
       "2  2019-09-10T21:10:15.208764Z          4  \n",
       "3  2022-01-05T18:22:16.895742Z          5  \n",
       "4  2021-12-10T19:37:43.238743Z          5  "
      ],
      "text/html": [
       "<div>\n",
       "<style scoped>\n",
       "    .dataframe tbody tr th:only-of-type {\n",
       "        vertical-align: middle;\n",
       "    }\n",
       "\n",
       "    .dataframe tbody tr th {\n",
       "        vertical-align: top;\n",
       "    }\n",
       "\n",
       "    .dataframe thead th {\n",
       "        text-align: right;\n",
       "    }\n",
       "</style>\n",
       "<table border=\"1\" class=\"dataframe\">\n",
       "  <thead>\n",
       "    <tr style=\"text-align: right;\">\n",
       "      <th></th>\n",
       "      <th>Stars</th>\n",
       "      <th>Comment</th>\n",
       "      <th>clean_text</th>\n",
       "      <th>Date posted</th>\n",
       "      <th>sentiment</th>\n",
       "    </tr>\n",
       "  </thead>\n",
       "  <tbody>\n",
       "    <tr>\n",
       "      <th>0</th>\n",
       "      <td>2</td>\n",
       "      <td>Customer service was very nice. The prices wer...</td>\n",
       "      <td>customer service nice price ok good caribbean ...</td>\n",
       "      <td>2022-01-18T16:52:22.018400Z</td>\n",
       "      <td>3</td>\n",
       "    </tr>\n",
       "    <tr>\n",
       "      <th>1</th>\n",
       "      <td>5</td>\n",
       "      <td>FIVE star</td>\n",
       "      <td>five star</td>\n",
       "      <td>2022-01-06T18:13:54.656825Z</td>\n",
       "      <td>5</td>\n",
       "    </tr>\n",
       "    <tr>\n",
       "      <th>2</th>\n",
       "      <td>4</td>\n",
       "      <td>FOUR star</td>\n",
       "      <td>four star</td>\n",
       "      <td>2019-09-10T21:10:15.208764Z</td>\n",
       "      <td>4</td>\n",
       "    </tr>\n",
       "    <tr>\n",
       "      <th>3</th>\n",
       "      <td>5</td>\n",
       "      <td>Oxtails, wow, best around 3 neighboring counti...</td>\n",
       "      <td>oxtails wow best around neighbor counties stop...</td>\n",
       "      <td>2022-01-05T18:22:16.895742Z</td>\n",
       "      <td>5</td>\n",
       "    </tr>\n",
       "    <tr>\n",
       "      <th>4</th>\n",
       "      <td>5</td>\n",
       "      <td>FIVE star</td>\n",
       "      <td>five star</td>\n",
       "      <td>2021-12-10T19:37:43.238743Z</td>\n",
       "      <td>5</td>\n",
       "    </tr>\n",
       "  </tbody>\n",
       "</table>\n",
       "</div>"
      ]
     },
     "execution_count": 10,
     "metadata": {},
     "output_type": "execute_result"
    }
   ],
   "execution_count": 10
  },
  {
   "metadata": {
    "ExecuteTime": {
     "end_time": "2025-04-18T12:28:13.944245Z",
     "start_time": "2025-04-18T12:28:13.931686Z"
    }
   },
   "cell_type": "code",
   "source": "df.columns",
   "id": "358d66ece9691a21",
   "outputs": [
    {
     "data": {
      "text/plain": [
       "Index(['Stars', 'Comment', 'clean_text', 'Date posted', 'sentiment'], dtype='object')"
      ]
     },
     "execution_count": 11,
     "metadata": {},
     "output_type": "execute_result"
    }
   ],
   "execution_count": 11
  },
  {
   "metadata": {
    "ExecuteTime": {
     "end_time": "2025-04-18T12:29:37.450701Z",
     "start_time": "2025-04-18T12:29:37.438465Z"
    }
   },
   "cell_type": "code",
   "source": [
    "sentiment_df = df[['clean_text','Stars','sentiment']]\n",
    "sentiment_df.head()"
   ],
   "id": "3e17b1fb1ffb7186",
   "outputs": [
    {
     "data": {
      "text/plain": [
       "                                          clean_text  Stars  sentiment\n",
       "0  customer service nice price ok good caribbean ...      2          3\n",
       "1                                          five star      5          5\n",
       "2                                          four star      4          4\n",
       "3  oxtails wow best around neighbor counties stop...      5          5\n",
       "4                                          five star      5          5"
      ],
      "text/html": [
       "<div>\n",
       "<style scoped>\n",
       "    .dataframe tbody tr th:only-of-type {\n",
       "        vertical-align: middle;\n",
       "    }\n",
       "\n",
       "    .dataframe tbody tr th {\n",
       "        vertical-align: top;\n",
       "    }\n",
       "\n",
       "    .dataframe thead th {\n",
       "        text-align: right;\n",
       "    }\n",
       "</style>\n",
       "<table border=\"1\" class=\"dataframe\">\n",
       "  <thead>\n",
       "    <tr style=\"text-align: right;\">\n",
       "      <th></th>\n",
       "      <th>clean_text</th>\n",
       "      <th>Stars</th>\n",
       "      <th>sentiment</th>\n",
       "    </tr>\n",
       "  </thead>\n",
       "  <tbody>\n",
       "    <tr>\n",
       "      <th>0</th>\n",
       "      <td>customer service nice price ok good caribbean ...</td>\n",
       "      <td>2</td>\n",
       "      <td>3</td>\n",
       "    </tr>\n",
       "    <tr>\n",
       "      <th>1</th>\n",
       "      <td>five star</td>\n",
       "      <td>5</td>\n",
       "      <td>5</td>\n",
       "    </tr>\n",
       "    <tr>\n",
       "      <th>2</th>\n",
       "      <td>four star</td>\n",
       "      <td>4</td>\n",
       "      <td>4</td>\n",
       "    </tr>\n",
       "    <tr>\n",
       "      <th>3</th>\n",
       "      <td>oxtails wow best around neighbor counties stop...</td>\n",
       "      <td>5</td>\n",
       "      <td>5</td>\n",
       "    </tr>\n",
       "    <tr>\n",
       "      <th>4</th>\n",
       "      <td>five star</td>\n",
       "      <td>5</td>\n",
       "      <td>5</td>\n",
       "    </tr>\n",
       "  </tbody>\n",
       "</table>\n",
       "</div>"
      ]
     },
     "execution_count": 12,
     "metadata": {},
     "output_type": "execute_result"
    }
   ],
   "execution_count": 12
  },
  {
   "metadata": {
    "ExecuteTime": {
     "end_time": "2025-04-18T12:38:23.383643Z",
     "start_time": "2025-04-18T12:38:23.366963Z"
    }
   },
   "cell_type": "code",
   "source": [
    "sentiment_df['match'] = sentiment_df['sentiment'] == sentiment_df['Stars']\n",
    "sentiment_df['match'].value_counts()"
   ],
   "id": "dd121366f1cd2bb",
   "outputs": [
    {
     "data": {
      "text/plain": [
       "match\n",
       "True     230\n",
       "False     61\n",
       "Name: count, dtype: int64"
      ]
     },
     "execution_count": 13,
     "metadata": {},
     "output_type": "execute_result"
    }
   ],
   "execution_count": 13
  },
  {
   "metadata": {
    "ExecuteTime": {
     "end_time": "2025-04-18T12:39:45.916265Z",
     "start_time": "2025-04-18T12:39:45.729193Z"
    }
   },
   "cell_type": "code",
   "source": [
    "agreement_by_star = sentiment_df.groupby('Stars')['match'].mean()\n",
    "agreement_by_star.plot(kind='bar', title='Agreement Rate Between Rating and Text Sentiment')"
   ],
   "id": "483358c43b9c6c53",
   "outputs": [
    {
     "data": {
      "text/plain": [
       "<Axes: title={'center': 'Agreement Rate Between Rating and Text Sentiment'}, xlabel='Stars'>"
      ]
     },
     "execution_count": 14,
     "metadata": {},
     "output_type": "execute_result"
    },
    {
     "data": {
      "text/plain": [
       "<Figure size 640x480 with 1 Axes>"
      ],
      "image/png": "[encoded data removed]"
     },
     "metadata": {},
     "output_type": "display_data"
    }
   ],
   "execution_count": 14
  },
  {
   "metadata": {
    "ExecuteTime": {
     "end_time": "2025-04-18T16:22:43.775851Z",
     "start_time": "2025-04-18T16:22:43.684720Z"
    }
   },
   "cell_type": "code",
   "source": [
    "from sklearn.metrics import confusion_matrix, ConfusionMatrixDisplay\n",
    "\n",
    "# Visualizing the true and predicted stars\n",
    "cm = confusion_matrix(sentiment_df['Stars'], sentiment_df['sentiment'], labels=[1, 2, 3, 4, 5])\n",
    "disp = ConfusionMatrixDisplay(confusion_matrix=cm, display_labels=[1, 2, 3, 4, 5])\n",
    "disp.plot(cmap='Blues')\n",
    "plt.title('Stars vs Transformer Sentiment')\n",
    "plt.show()\n",
    "\n"
   ],
   "id": "a7a191ea9ec2074b",
   "outputs": [
    {
     "data": {
      "text/plain": [
       "<Figure size 640x480 with 2 Axes>"
      ],
      "image/png": "[encoded data removed]"
     },
     "metadata": {},
     "output_type": "display_data"
    }
   ],
   "execution_count": 23
  },
  {
   "metadata": {},
   "cell_type": "markdown",
   "source": "### Keywords",
   "id": "832a7d1a14164869"
  },
  {
   "metadata": {
    "ExecuteTime": {
     "end_time": "2025-04-18T16:40:01.015053Z",
     "start_time": "2025-04-18T16:40:01.012524Z"
    }
   },
   "cell_type": "code",
   "source": [
    "from sklearn.feature_extraction.text import CountVectorizer\n",
    "vectorizer = CountVectorizer(stop_words='english', max_features=20)"
   ],
   "id": "a387585fb40a351d",
   "outputs": [],
   "execution_count": 46
  },
  {
   "metadata": {
    "ExecuteTime": {
     "end_time": "2025-04-18T16:40:01.347123Z",
     "start_time": "2025-04-18T16:40:01.344612Z"
    }
   },
   "cell_type": "code",
   "source": [
    " def get_keywords(corpus):\n",
    "     X = vectorizer.fit_transform(corpus)\n",
    "     keywords = vectorizer.get_feature_names_out()\n",
    "     counts = X.sum(axis=0).A1\n",
    "     return sorted(zip(keywords, counts), key=lambda x: x[1], reverse=True)"
   ],
   "id": "de19855b7d7f635e",
   "outputs": [],
   "execution_count": 47
  },
  {
   "metadata": {
    "ExecuteTime": {
     "end_time": "2025-04-18T16:40:13.603949Z",
     "start_time": "2025-04-18T16:40:13.594890Z"
    }
   },
   "cell_type": "code",
   "source": [
    "positive_comments = sentiment_df[sentiment_df['Stars'] >= 4]['clean_text']\n",
    "negative_comments = sentiment_df[sentiment_df['Stars'] <= 2]['clean_text']\n",
    "\n",
    "print(\"Top Positive Keywords\")\n",
    "positive = {}\n",
    "for word, count in get_keywords(positive_comments):\n",
    "    positive[word] = int(count)\n",
    "print(positive)\n",
    "\n",
    "print(\"\\n\")\n",
    "print(\"Top Negative Keywords\")\n",
    "negative = {}\n",
    "for word, count in get_keywords(negative_comments):\n",
    "    negative[word] = int(count)\n",
    "print(negative)"
   ],
   "id": "dea3ec16836ac813",
   "outputs": [
    {
     "name": "stdout",
     "output_type": "stream",
     "text": [
      "Top Positive Keywords\n",
      "{'food': 114, 'star': 104, 'good': 45, 'jamaican': 45, 'great': 35, 'best': 32, 'service': 26, 'love': 24, 'chicken': 22, 'delicious': 20, 'friendly': 20, 'place': 20, 'restaurant': 19, 'eat': 16, 'oxtail': 16, 'poughkeepsie': 16, 'jerk': 15, 'staff': 15, 'rice': 14, 'people': 13}\n",
      "\n",
      "\n",
      "Top Negative Keywords\n",
      "{'food': 8, 'taste': 8, 'rice': 7, 'like': 5, 'disappoint': 4, 'goat': 4, 'good': 4, 'peas': 4, 'help': 3, 'horrible': 3, 'order': 3, 'oxtails': 3, 'person': 3, 'restaurant': 3, 'rude': 3, 'season': 3, 'service': 3, 'soup': 3, 'star': 3, 'time': 3}\n"
     ]
    }
   ],
   "execution_count": 49
  },
  {
   "metadata": {
    "ExecuteTime": {
     "end_time": "2025-04-18T16:41:41.481655Z",
     "start_time": "2025-04-18T16:41:41.478849Z"
    }
   },
   "cell_type": "code",
   "source": [
    "def plot_keywords(keyword_dict, title):\n",
    "    keywords = list(keyword_dict.keys())\n",
    "    counts = list(keyword_dict.values())\n",
    "    plt.figure(figsize=(10,5))\n",
    "    plt.barh(keywords[::-1], counts[::-1])\n",
    "    plt.title(title)\n",
    "    plt.xlabel(\"Mentions\")\n",
    "    plt.tight_layout()\n",
    "    plt.show()\n"
   ],
   "id": "c8f2f8c6abd54138",
   "outputs": [],
   "execution_count": 50
  },
  {
   "metadata": {
    "ExecuteTime": {
     "end_time": "2025-04-18T16:42:34.516943Z",
     "start_time": "2025-04-18T16:42:33.832370Z"
    }
   },
   "cell_type": "code",
   "source": "plot_keywords(positive, \"Top Positive Keywords\")\n",
   "id": "de354404d9c3e3e3",
   "outputs": [
    {
     "data": {
      "text/plain": [
       "<Figure size 1000x500 with 1 Axes>"
      ],
      "image/png": "[encoded data removed]"
     },
     "metadata": {},
     "output_type": "display_data"
    }
   ],
   "execution_count": 53
  },
  {
   "metadata": {
    "ExecuteTime": {
     "end_time": "2025-04-18T16:42:59.644896Z",
     "start_time": "2025-04-18T16:42:59.554398Z"
    }
   },
   "cell_type": "code",
   "source": "plot_keywords(negative, \"Top Negative Keywords\")\n",
   "id": "f2dc74d9517e1ef1",
   "outputs": [
    {
     "data": {
      "text/plain": [
       "<Figure size 1000x500 with 1 Axes>"
      ],
      "image/png": "[encoded data removed]"
     },
     "metadata": {},
     "output_type": "display_data"
    }
   ],
   "execution_count": 55
  },
  {
   "metadata": {},
   "cell_type": "markdown",
   "source": "### Word searching in comments",
   "id": "9684fc9c224949bc"
  },
  {
   "metadata": {
    "ExecuteTime": {
     "end_time": "2025-04-18T17:08:14.869002Z",
     "start_time": "2025-04-18T17:08:14.865680Z"
    }
   },
   "cell_type": "code",
   "source": [
    "def find_comments(keywords, df , column='Comment', n=50):\n",
    "    \"\"\"\n",
    "    Search for reviews that mention a word or list of words.\n",
    "\n",
    "    Args:\n",
    "        keywords (str or list): A single word/phrase or list of them\n",
    "        df (DataFrame): Your reviews DataFrame\n",
    "        column (str): Cleaned text column\n",
    "        original_column (str): Raw text column\n",
    "        n (int): How many comments to return\n",
    "\n",
    "    Returns:\n",
    "        Sample of matching comments or message if none found\n",
    "    \"\"\"\n",
    "    if isinstance(keywords, str):\n",
    "        keywords = [keywords]\n",
    "\n",
    "    pattern = '|'.join(keywords)\n",
    "    matches = df[df[column].str.contains(pattern, case=False, na=False)]\n",
    "\n",
    "    if matches.empty:\n",
    "        return f\"No matches found for: {', '.join(keywords)}\"\n",
    "\n",
    "    return matches[[column]].sample(min(n, len(matches)))\n",
    "\n",
    "pd.set_option('display.width', 0)  # Adjust to terminal width\n",
    "find_comments(\"staff\", df)"
   ],
   "id": "bb23eaed1df9ebb2",
   "outputs": [],
   "execution_count": 84
  },
  {
   "metadata": {
    "ExecuteTime": {
     "end_time": "2025-04-18T17:08:18.542207Z",
     "start_time": "2025-04-18T17:08:18.535844Z"
    }
   },
   "cell_type": "code",
   "source": [
    "pd.set_option('display.width', 0)  # Adjust to terminal width\n",
    "find_comments(\"staff\", df)\n"
   ],
   "id": "7d6a6849a863a5dd",
   "outputs": [
    {
     "data": {
      "text/plain": [
       "                                               Comment\n",
       "215  NICEST PEOPLE HERE! Fantastic food. Every time...\n",
       "101  Best authentic Jamaican food in Poughkeepsie. ...\n",
       "285  Great atmosphere, lovely staff and amazing ser...\n",
       "116  I stop in to get Jamaican beef patties wheneve...\n",
       "238  Best Jamaican restaurant in Dutchess County!!!...\n",
       "44   The food is simply delicious...but make sure y...\n",
       "37   Food was good. Staff were cordial. Jerk chicke...\n",
       "251    Good food. Convenient location. Friendly staff.\n",
       "45       Excellent curry chicken! Very friendly staff!\n",
       "246  Staff here has very little personal skills, th...\n",
       "282  I love this place! always get a real Jamaican ...\n",
       "86   I have been to Sylvia's many times and I must ...\n",
       "203  Very good food. Lots of choices. Clean. Friend...\n",
       "245  I have been going to this restaurant for years...\n",
       "39   The place was very clean, friendly staff & oxt..."
      ],
      "text/html": [
       "<div>\n",
       "<style scoped>\n",
       "    .dataframe tbody tr th:only-of-type {\n",
       "        vertical-align: middle;\n",
       "    }\n",
       "\n",
       "    .dataframe tbody tr th {\n",
       "        vertical-align: top;\n",
       "    }\n",
       "\n",
       "    .dataframe thead th {\n",
       "        text-align: right;\n",
       "    }\n",
       "</style>\n",
       "<table border=\"1\" class=\"dataframe\">\n",
       "  <thead>\n",
       "    <tr style=\"text-align: right;\">\n",
       "      <th></th>\n",
       "      <th>Comment</th>\n",
       "    </tr>\n",
       "  </thead>\n",
       "  <tbody>\n",
       "    <tr>\n",
       "      <th>215</th>\n",
       "      <td>NICEST PEOPLE HERE! Fantastic food. Every time...</td>\n",
       "    </tr>\n",
       "    <tr>\n",
       "      <th>101</th>\n",
       "      <td>Best authentic Jamaican food in Poughkeepsie. ...</td>\n",
       "    </tr>\n",
       "    <tr>\n",
       "      <th>285</th>\n",
       "      <td>Great atmosphere, lovely staff and amazing ser...</td>\n",
       "    </tr>\n",
       "    <tr>\n",
       "      <th>116</th>\n",
       "      <td>I stop in to get Jamaican beef patties wheneve...</td>\n",
       "    </tr>\n",
       "    <tr>\n",
       "      <th>238</th>\n",
       "      <td>Best Jamaican restaurant in Dutchess County!!!...</td>\n",
       "    </tr>\n",
       "    <tr>\n",
       "      <th>44</th>\n",
       "      <td>The food is simply delicious...but make sure y...</td>\n",
       "    </tr>\n",
       "    <tr>\n",
       "      <th>37</th>\n",
       "      <td>Food was good. Staff were cordial. Jerk chicke...</td>\n",
       "    </tr>\n",
       "    <tr>\n",
       "      <th>251</th>\n",
       "      <td>Good food. Convenient location. Friendly staff.</td>\n",
       "    </tr>\n",
       "    <tr>\n",
       "      <th>45</th>\n",
       "      <td>Excellent curry chicken! Very friendly staff!</td>\n",
       "    </tr>\n",
       "    <tr>\n",
       "      <th>246</th>\n",
       "      <td>Staff here has very little personal skills, th...</td>\n",
       "    </tr>\n",
       "    <tr>\n",
       "      <th>282</th>\n",
       "      <td>I love this place! always get a real Jamaican ...</td>\n",
       "    </tr>\n",
       "    <tr>\n",
       "      <th>86</th>\n",
       "      <td>I have been to Sylvia's many times and I must ...</td>\n",
       "    </tr>\n",
       "    <tr>\n",
       "      <th>203</th>\n",
       "      <td>Very good food. Lots of choices. Clean. Friend...</td>\n",
       "    </tr>\n",
       "    <tr>\n",
       "      <th>245</th>\n",
       "      <td>I have been going to this restaurant for years...</td>\n",
       "    </tr>\n",
       "    <tr>\n",
       "      <th>39</th>\n",
       "      <td>The place was very clean, friendly staff &amp; oxt...</td>\n",
       "    </tr>\n",
       "  </tbody>\n",
       "</table>\n",
       "</div>"
      ]
     },
     "execution_count": 85,
     "metadata": {},
     "output_type": "execute_result"
    }
   ],
   "execution_count": 85
  },
  {
   "metadata": {
    "ExecuteTime": {
     "end_time": "2025-04-18T17:07:35.279106Z",
     "start_time": "2025-04-18T17:07:35.265854Z"
    }
   },
   "cell_type": "code",
   "source": "",
   "id": "1288a9e5e68f11ae",
   "outputs": [
    {
     "data": {
      "text/plain": [
       "                                            clean_text  Stars  sentiment  \\\n",
       "0    customer service nice price ok good caribbean ...      2          3   \n",
       "1                                            five star      5          5   \n",
       "2                                            four star      4          4   \n",
       "3    oxtails wow best around neighbor counties stop...      5          5   \n",
       "4                                            five star      5          5   \n",
       "..                                                 ...    ...        ...   \n",
       "286                                          four star      4          4   \n",
       "287  last night stop sylvia jamaican restaurant see...      5          1   \n",
       "288  good ol fine jerk service great marinade one best      5          5   \n",
       "289  food exceptionally delicious service cordial kind      5          5   \n",
       "290                        love oxtails drive newburgh      5          5   \n",
       "\n",
       "     match  \n",
       "0    False  \n",
       "1     True  \n",
       "2     True  \n",
       "3     True  \n",
       "4     True  \n",
       "..     ...  \n",
       "286   True  \n",
       "287  False  \n",
       "288   True  \n",
       "289   True  \n",
       "290   True  \n",
       "\n",
       "[291 rows x 4 columns]"
      ],
      "text/html": [
       "<div>\n",
       "<style scoped>\n",
       "    .dataframe tbody tr th:only-of-type {\n",
       "        vertical-align: middle;\n",
       "    }\n",
       "\n",
       "    .dataframe tbody tr th {\n",
       "        vertical-align: top;\n",
       "    }\n",
       "\n",
       "    .dataframe thead th {\n",
       "        text-align: right;\n",
       "    }\n",
       "</style>\n",
       "<table border=\"1\" class=\"dataframe\">\n",
       "  <thead>\n",
       "    <tr style=\"text-align: right;\">\n",
       "      <th></th>\n",
       "      <th>clean_text</th>\n",
       "      <th>Stars</th>\n",
       "      <th>sentiment</th>\n",
       "      <th>match</th>\n",
       "    </tr>\n",
       "  </thead>\n",
       "  <tbody>\n",
       "    <tr>\n",
       "      <th>0</th>\n",
       "      <td>customer service nice price ok good caribbean ...</td>\n",
       "      <td>2</td>\n",
       "      <td>3</td>\n",
       "      <td>False</td>\n",
       "    </tr>\n",
       "    <tr>\n",
       "      <th>1</th>\n",
       "      <td>five star</td>\n",
       "      <td>5</td>\n",
       "      <td>5</td>\n",
       "      <td>True</td>\n",
       "    </tr>\n",
       "    <tr>\n",
       "      <th>2</th>\n",
       "      <td>four star</td>\n",
       "      <td>4</td>\n",
       "      <td>4</td>\n",
       "      <td>True</td>\n",
       "    </tr>\n",
       "    <tr>\n",
       "      <th>3</th>\n",
       "      <td>oxtails wow best around neighbor counties stop...</td>\n",
       "      <td>5</td>\n",
       "      <td>5</td>\n",
       "      <td>True</td>\n",
       "    </tr>\n",
       "    <tr>\n",
       "      <th>4</th>\n",
       "      <td>five star</td>\n",
       "      <td>5</td>\n",
       "      <td>5</td>\n",
       "      <td>True</td>\n",
       "    </tr>\n",
       "    <tr>\n",
       "      <th>...</th>\n",
       "      <td>...</td>\n",
       "      <td>...</td>\n",
       "      <td>...</td>\n",
       "      <td>...</td>\n",
       "    </tr>\n",
       "    <tr>\n",
       "      <th>286</th>\n",
       "      <td>four star</td>\n",
       "      <td>4</td>\n",
       "      <td>4</td>\n",
       "      <td>True</td>\n",
       "    </tr>\n",
       "    <tr>\n",
       "      <th>287</th>\n",
       "      <td>last night stop sylvia jamaican restaurant see...</td>\n",
       "      <td>5</td>\n",
       "      <td>1</td>\n",
       "      <td>False</td>\n",
       "    </tr>\n",
       "    <tr>\n",
       "      <th>288</th>\n",
       "      <td>good ol fine jerk service great marinade one best</td>\n",
       "      <td>5</td>\n",
       "      <td>5</td>\n",
       "      <td>True</td>\n",
       "    </tr>\n",
       "    <tr>\n",
       "      <th>289</th>\n",
       "      <td>food exceptionally delicious service cordial kind</td>\n",
       "      <td>5</td>\n",
       "      <td>5</td>\n",
       "      <td>True</td>\n",
       "    </tr>\n",
       "    <tr>\n",
       "      <th>290</th>\n",
       "      <td>love oxtails drive newburgh</td>\n",
       "      <td>5</td>\n",
       "      <td>5</td>\n",
       "      <td>True</td>\n",
       "    </tr>\n",
       "  </tbody>\n",
       "</table>\n",
       "<p>291 rows × 4 columns</p>\n",
       "</div>"
      ]
     },
     "execution_count": 81,
     "metadata": {},
     "output_type": "execute_result"
    }
   ],
   "execution_count": 81
  },
  {
   "metadata": {},
   "cell_type": "markdown",
   "source": "###",
   "id": "855b30970933ef69"
  },
  {
   "metadata": {
    "ExecuteTime": {
     "end_time": "2025-04-18T17:27:41.640130Z",
     "start_time": "2025-04-18T17:27:41.636185Z"
    }
   },
   "cell_type": "code",
   "source": "sentiment_df.to_csv('/Users/jahdovanterpool/Downloads/sentiment_df.csv')",
   "id": "54e25db01f0aea93",
   "outputs": [],
   "execution_count": 88
  },
  {
   "metadata": {},
   "cell_type": "code",
   "outputs": [],
   "execution_count": null,
   "source": "",
   "id": "ac3ea0b04630033"
  }
 ],
 "metadata": {
  "kernelspec": {
   "display_name": "Python 3",
   "language": "python",
   "name": "python3"
  },
  "language_info": {
   "codemirror_mode": {
    "name": "ipython",
    "version": 2
   },
   "file_extension": ".py",
   "mimetype": "text/x-python",
   "name": "python",
   "nbconvert_exporter": "python",
   "pygments_lexer": "ipython2",
   "version": "2.7.6"
  }
 },
 "nbformat": 4,
 "nbformat_minor": 5
}
