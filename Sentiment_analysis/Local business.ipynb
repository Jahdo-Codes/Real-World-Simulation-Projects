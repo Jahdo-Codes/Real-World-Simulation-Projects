{
 "cells": [
  {
   "metadata": {},
   "cell_type": "markdown",
   "source": "### Load libraries",
   "id": "d0cd322f11cd33d7"
  },
  {
   "metadata": {
    "ExecuteTime": {
     "end_time": "2025-04-08T06:52:43.223882Z",
     "start_time": "2025-04-08T06:52:43.221245Z"
    }
   },
   "cell_type": "code",
   "source": [
    "import re\n",
    "import pandas as pd\n",
    "import numpy as np\n",
    "import seaborn as sns\n",
    "import matplotlib.pyplot as plt\n",
    "\n",
    "import json #Files saved from google takeout were in json format\n",
    "import os"
   ],
   "id": "655d8c4177d3ba25",
   "outputs": [],
   "execution_count": 1
  },
  {
   "metadata": {
    "ExecuteTime": {
     "end_time": "2025-04-08T06:52:43.237335Z",
     "start_time": "2025-04-08T06:52:43.232123Z"
    }
   },
   "cell_type": "code",
   "source": [
    "# Load json file from my files\n",
    "# Rename files so they could be better organized\n",
    "\n",
    "folder_path = '/Users/jahdovanterpool/Downloads/Sylvia/reviews'\n",
    "\n",
    "\n",
    "def rename_json_files(folder_path):\n",
    "    json_files = sorted([f for f in os.listdir(folder_path) if f.endswith('json')])\n",
    "    renamed = []\n",
    "\n",
    "    for i, old_name in enumerate(json_files):\n",
    "        old_path = os.path.join(folder_path,old_name)\n",
    "        new_name = f'review-{i:03}.json'\n",
    "        new_path = os.path.join(folder_path,new_name)\n",
    "        os.rename(old_path,new_path)\n",
    "        print(f'Renamed {old_name} --> {new_name}')\n",
    "        renamed.append(new_name)\n",
    "    return renamed\n",
    "\n",
    "\n",
    "file_name_change = rename_json_files(folder_path)\n",
    "print(file_name_change)"
   ],
   "id": "689986289ae58281",
   "outputs": [
    {
     "name": "stdout",
     "output_type": "stream",
     "text": [
      "Renamed review-000.json --> review-000.json\n",
      "Renamed review-001.json --> review-001.json\n",
      "Renamed review-002.json --> review-002.json\n",
      "Renamed review-003.json --> review-003.json\n",
      "Renamed review-004.json --> review-004.json\n",
      "Renamed review-005.json --> review-005.json\n",
      "Renamed review-006.json --> review-006.json\n",
      "Renamed review-007.json --> review-007.json\n",
      "Renamed review-008.json --> review-008.json\n",
      "Renamed review-009.json --> review-009.json\n",
      "Renamed review-010.json --> review-010.json\n",
      "Renamed review-011.json --> review-011.json\n",
      "Renamed review-012.json --> review-012.json\n",
      "Renamed review-013.json --> review-013.json\n",
      "Renamed review-014.json --> review-014.json\n",
      "['review-000.json', 'review-001.json', 'review-002.json', 'review-003.json', 'review-004.json', 'review-005.json', 'review-006.json', 'review-007.json', 'review-008.json', 'review-009.json', 'review-010.json', 'review-011.json', 'review-012.json', 'review-013.json', 'review-014.json']\n"
     ]
    }
   ],
   "execution_count": 2
  },
  {
   "metadata": {
    "ExecuteTime": {
     "end_time": "2025-04-08T06:52:43.314781Z",
     "start_time": "2025-04-08T06:52:43.294852Z"
    }
   },
   "cell_type": "code",
   "source": [
    "# Combine the json files and create one dataframe\n",
    "\n",
    "def merge_json_in_folder(folder_path):\n",
    "    merged_data = pd.DataFrame()\n",
    "    for filename in os.listdir(folder_path):\n",
    "        if filename.endswith('.json'):\n",
    "            file_path = os.path.join(folder_path, filename)\n",
    "            try:\n",
    "                data = pd.read_json(file_path)\n",
    "                merged_data = pd.concat([merged_data, data], ignore_index=True)\n",
    "            except Exception as e:\n",
    "                print(f\"Could not read {filename}: {e}\")\n",
    "    merged_data.to_json('merged.json', orient='records', lines=True)\n",
    "    return merged_data\n",
    "\n",
    "\n",
    "merged_df = merge_json_in_folder(folder_path)\n",
    "merged_df.head()"
   ],
   "id": "50c4381dc36e9b56",
   "outputs": [
    {
     "data": {
      "text/plain": [
       "                                             reviews\n",
       "0  {'reviewer': {'displayName': 'Angela Pressley'...\n",
       "1  {'reviewer': {'displayName': 'Tywan Robinson'}...\n",
       "2  {'reviewer': {'displayName': 'roy burgess'}, '...\n",
       "3  {'reviewer': {'displayName': 'DDA'}, 'starRati...\n",
       "4  {'reviewer': {'displayName': 'Willie Eady'}, '..."
      ],
      "text/html": [
       "<div>\n",
       "<style scoped>\n",
       "    .dataframe tbody tr th:only-of-type {\n",
       "        vertical-align: middle;\n",
       "    }\n",
       "\n",
       "    .dataframe tbody tr th {\n",
       "        vertical-align: top;\n",
       "    }\n",
       "\n",
       "    .dataframe thead th {\n",
       "        text-align: right;\n",
       "    }\n",
       "</style>\n",
       "<table border=\"1\" class=\"dataframe\">\n",
       "  <thead>\n",
       "    <tr style=\"text-align: right;\">\n",
       "      <th></th>\n",
       "      <th>reviews</th>\n",
       "    </tr>\n",
       "  </thead>\n",
       "  <tbody>\n",
       "    <tr>\n",
       "      <th>0</th>\n",
       "      <td>{'reviewer': {'displayName': 'Angela Pressley'...</td>\n",
       "    </tr>\n",
       "    <tr>\n",
       "      <th>1</th>\n",
       "      <td>{'reviewer': {'displayName': 'Tywan Robinson'}...</td>\n",
       "    </tr>\n",
       "    <tr>\n",
       "      <th>2</th>\n",
       "      <td>{'reviewer': {'displayName': 'roy burgess'}, '...</td>\n",
       "    </tr>\n",
       "    <tr>\n",
       "      <th>3</th>\n",
       "      <td>{'reviewer': {'displayName': 'DDA'}, 'starRati...</td>\n",
       "    </tr>\n",
       "    <tr>\n",
       "      <th>4</th>\n",
       "      <td>{'reviewer': {'displayName': 'Willie Eady'}, '...</td>\n",
       "    </tr>\n",
       "  </tbody>\n",
       "</table>\n",
       "</div>"
      ]
     },
     "execution_count": 3,
     "metadata": {},
     "output_type": "execute_result"
    }
   ],
   "execution_count": 3
  },
  {
   "metadata": {
    "ExecuteTime": {
     "end_time": "2025-04-08T06:52:43.335071Z",
     "start_time": "2025-04-08T06:52:43.323766Z"
    }
   },
   "cell_type": "code",
   "source": [
    "# Convert Json semi structured data puts it into a proper dataframe\n",
    "# Fill missing values replies and comments with 'No reply' or just there star rating\n",
    "\n",
    "flat_df = pd.json_normalize(merged_df['reviews'])\n",
    "\n",
    "flat_df.rename(columns={\n",
    "    'starRating':'Rating',\n",
    "    'comment': 'Comment',\n",
    "    'createTime': 'Date posted',\n",
    "    'updateTime': 'Updated',\n",
    "    'name': 'ReviewID',\n",
    "    'reviewer.displayName':'Reviewer',\n",
    "    'reviewReply.comment': 'Reply',\n",
    "    'reviewReply.updateTime': 'ReplyUpdate'\n",
    "},inplace=True)\n",
    "\n",
    "\n",
    "flat_df['Reply'] = flat_df['Reply'].fillna('No Reply')\n",
    "flat_df.loc[:,'Comment'] = flat_df.apply(\n",
    "    lambda row: f\"{row['Rating']} star\" if pd.isna(row['Comment']) else row['Comment'],\n",
    "    axis = 1\n",
    ")\n",
    "\n",
    "flat_df.head(100)"
   ],
   "id": "c729406fcdece901",
   "outputs": [
    {
     "data": {
      "text/plain": [
       "   Rating                                            Comment  \\\n",
       "0     TWO  Customer service was very nice. The prices wer...   \n",
       "1    FIVE                                          FIVE star   \n",
       "2    FOUR                                          FOUR star   \n",
       "3    FIVE  Oxtails, wow, best around 3 neighboring counti...   \n",
       "4    FIVE                                          FIVE star   \n",
       "..    ...                                                ...   \n",
       "95   FIVE  Best Jamaican food in Poughkeepsie I’ve been g...   \n",
       "96   FIVE                                          FIVE star   \n",
       "97   FIVE  Always an enjoyable experience but be prepared...   \n",
       "98   FIVE                                          FIVE star   \n",
       "99   FIVE                                          FIVE star   \n",
       "\n",
       "                    Date posted                      Updated  \\\n",
       "0   2022-01-18T16:52:22.018400Z  2022-01-18T16:52:22.018400Z   \n",
       "1   2022-01-06T18:13:54.656825Z  2022-01-06T18:13:54.656825Z   \n",
       "2   2019-09-10T21:10:15.208764Z  2022-01-06T17:03:22.134433Z   \n",
       "3   2022-01-05T18:22:16.895742Z  2022-01-05T18:22:16.895742Z   \n",
       "4   2021-12-10T19:37:43.238743Z  2021-12-10T19:37:43.238743Z   \n",
       "..                          ...                          ...   \n",
       "95  2022-03-06T15:05:54.053857Z  2022-03-06T15:05:54.053857Z   \n",
       "96  2022-02-25T07:28:45.738440Z  2022-02-25T07:28:45.738440Z   \n",
       "97  2022-02-08T18:13:29.797840Z  2022-02-08T18:13:29.797840Z   \n",
       "98  2021-08-31T22:46:17.008788Z  2022-02-08T11:36:50.719964Z   \n",
       "99  2022-01-28T12:19:49.363600Z  2022-01-28T12:19:49.363600Z   \n",
       "\n",
       "                                             ReviewID         Reviewer  \\\n",
       "0   accounts/113125786415732178818/locations/11630...  Angela Pressley   \n",
       "1   accounts/113125786415732178818/locations/11630...   Tywan Robinson   \n",
       "2   accounts/113125786415732178818/locations/11630...      roy burgess   \n",
       "3   accounts/113125786415732178818/locations/11630...              DDA   \n",
       "4   accounts/113125786415732178818/locations/11630...      Willie Eady   \n",
       "..                                                ...              ...   \n",
       "95  accounts/113125786415732178818/locations/11630...    Roberto Ortiz   \n",
       "96  accounts/113125786415732178818/locations/11630...     Norman Smith   \n",
       "97  accounts/113125786415732178818/locations/11630...   Meaghan Battle   \n",
       "98  accounts/113125786415732178818/locations/11630...   Legacy Mission   \n",
       "99  accounts/113125786415732178818/locations/11630...       Sky Gewant   \n",
       "\n",
       "        Reply                  ReplyUpdate  \n",
       "0    No Reply                          NaN  \n",
       "1    No Reply                          NaN  \n",
       "2    No Reply                          NaN  \n",
       "3    No Reply                          NaN  \n",
       "4    No Reply                          NaN  \n",
       "..        ...                          ...  \n",
       "95  Thank you  2023-11-18T00:16:52.471179Z  \n",
       "96  Thank you  2023-11-18T00:17:00.620590Z  \n",
       "97  Thank you  2023-11-18T00:17:14.042470Z  \n",
       "98   No Reply                          NaN  \n",
       "99   No Reply                          NaN  \n",
       "\n",
       "[100 rows x 8 columns]"
      ],
      "text/html": [
       "<div>\n",
       "<style scoped>\n",
       "    .dataframe tbody tr th:only-of-type {\n",
       "        vertical-align: middle;\n",
       "    }\n",
       "\n",
       "    .dataframe tbody tr th {\n",
       "        vertical-align: top;\n",
       "    }\n",
       "\n",
       "    .dataframe thead th {\n",
       "        text-align: right;\n",
       "    }\n",
       "</style>\n",
       "<table border=\"1\" class=\"dataframe\">\n",
       "  <thead>\n",
       "    <tr style=\"text-align: right;\">\n",
       "      <th></th>\n",
       "      <th>Rating</th>\n",
       "      <th>Comment</th>\n",
       "      <th>Date posted</th>\n",
       "      <th>Updated</th>\n",
       "      <th>ReviewID</th>\n",
       "      <th>Reviewer</th>\n",
       "      <th>Reply</th>\n",
       "      <th>ReplyUpdate</th>\n",
       "    </tr>\n",
       "  </thead>\n",
       "  <tbody>\n",
       "    <tr>\n",
       "      <th>0</th>\n",
       "      <td>TWO</td>\n",
       "      <td>Customer service was very nice. The prices wer...</td>\n",
       "      <td>2022-01-18T16:52:22.018400Z</td>\n",
       "      <td>2022-01-18T16:52:22.018400Z</td>\n",
       "      <td>accounts/113125786415732178818/locations/11630...</td>\n",
       "      <td>Angela Pressley</td>\n",
       "      <td>No Reply</td>\n",
       "      <td>NaN</td>\n",
       "    </tr>\n",
       "    <tr>\n",
       "      <th>1</th>\n",
       "      <td>FIVE</td>\n",
       "      <td>FIVE star</td>\n",
       "      <td>2022-01-06T18:13:54.656825Z</td>\n",
       "      <td>2022-01-06T18:13:54.656825Z</td>\n",
       "      <td>accounts/113125786415732178818/locations/11630...</td>\n",
       "      <td>Tywan Robinson</td>\n",
       "      <td>No Reply</td>\n",
       "      <td>NaN</td>\n",
       "    </tr>\n",
       "    <tr>\n",
       "      <th>2</th>\n",
       "      <td>FOUR</td>\n",
       "      <td>FOUR star</td>\n",
       "      <td>2019-09-10T21:10:15.208764Z</td>\n",
       "      <td>2022-01-06T17:03:22.134433Z</td>\n",
       "      <td>accounts/113125786415732178818/locations/11630...</td>\n",
       "      <td>roy burgess</td>\n",
       "      <td>No Reply</td>\n",
       "      <td>NaN</td>\n",
       "    </tr>\n",
       "    <tr>\n",
       "      <th>3</th>\n",
       "      <td>FIVE</td>\n",
       "      <td>Oxtails, wow, best around 3 neighboring counti...</td>\n",
       "      <td>2022-01-05T18:22:16.895742Z</td>\n",
       "      <td>2022-01-05T18:22:16.895742Z</td>\n",
       "      <td>accounts/113125786415732178818/locations/11630...</td>\n",
       "      <td>DDA</td>\n",
       "      <td>No Reply</td>\n",
       "      <td>NaN</td>\n",
       "    </tr>\n",
       "    <tr>\n",
       "      <th>4</th>\n",
       "      <td>FIVE</td>\n",
       "      <td>FIVE star</td>\n",
       "      <td>2021-12-10T19:37:43.238743Z</td>\n",
       "      <td>2021-12-10T19:37:43.238743Z</td>\n",
       "      <td>accounts/113125786415732178818/locations/11630...</td>\n",
       "      <td>Willie Eady</td>\n",
       "      <td>No Reply</td>\n",
       "      <td>NaN</td>\n",
       "    </tr>\n",
       "    <tr>\n",
       "      <th>...</th>\n",
       "      <td>...</td>\n",
       "      <td>...</td>\n",
       "      <td>...</td>\n",
       "      <td>...</td>\n",
       "      <td>...</td>\n",
       "      <td>...</td>\n",
       "      <td>...</td>\n",
       "      <td>...</td>\n",
       "    </tr>\n",
       "    <tr>\n",
       "      <th>95</th>\n",
       "      <td>FIVE</td>\n",
       "      <td>Best Jamaican food in Poughkeepsie I’ve been g...</td>\n",
       "      <td>2022-03-06T15:05:54.053857Z</td>\n",
       "      <td>2022-03-06T15:05:54.053857Z</td>\n",
       "      <td>accounts/113125786415732178818/locations/11630...</td>\n",
       "      <td>Roberto Ortiz</td>\n",
       "      <td>Thank you</td>\n",
       "      <td>2023-11-18T00:16:52.471179Z</td>\n",
       "    </tr>\n",
       "    <tr>\n",
       "      <th>96</th>\n",
       "      <td>FIVE</td>\n",
       "      <td>FIVE star</td>\n",
       "      <td>2022-02-25T07:28:45.738440Z</td>\n",
       "      <td>2022-02-25T07:28:45.738440Z</td>\n",
       "      <td>accounts/113125786415732178818/locations/11630...</td>\n",
       "      <td>Norman Smith</td>\n",
       "      <td>Thank you</td>\n",
       "      <td>2023-11-18T00:17:00.620590Z</td>\n",
       "    </tr>\n",
       "    <tr>\n",
       "      <th>97</th>\n",
       "      <td>FIVE</td>\n",
       "      <td>Always an enjoyable experience but be prepared...</td>\n",
       "      <td>2022-02-08T18:13:29.797840Z</td>\n",
       "      <td>2022-02-08T18:13:29.797840Z</td>\n",
       "      <td>accounts/113125786415732178818/locations/11630...</td>\n",
       "      <td>Meaghan Battle</td>\n",
       "      <td>Thank you</td>\n",
       "      <td>2023-11-18T00:17:14.042470Z</td>\n",
       "    </tr>\n",
       "    <tr>\n",
       "      <th>98</th>\n",
       "      <td>FIVE</td>\n",
       "      <td>FIVE star</td>\n",
       "      <td>2021-08-31T22:46:17.008788Z</td>\n",
       "      <td>2022-02-08T11:36:50.719964Z</td>\n",
       "      <td>accounts/113125786415732178818/locations/11630...</td>\n",
       "      <td>Legacy Mission</td>\n",
       "      <td>No Reply</td>\n",
       "      <td>NaN</td>\n",
       "    </tr>\n",
       "    <tr>\n",
       "      <th>99</th>\n",
       "      <td>FIVE</td>\n",
       "      <td>FIVE star</td>\n",
       "      <td>2022-01-28T12:19:49.363600Z</td>\n",
       "      <td>2022-01-28T12:19:49.363600Z</td>\n",
       "      <td>accounts/113125786415732178818/locations/11630...</td>\n",
       "      <td>Sky Gewant</td>\n",
       "      <td>No Reply</td>\n",
       "      <td>NaN</td>\n",
       "    </tr>\n",
       "  </tbody>\n",
       "</table>\n",
       "<p>100 rows × 8 columns</p>\n",
       "</div>"
      ]
     },
     "execution_count": 4,
     "metadata": {},
     "output_type": "execute_result"
    }
   ],
   "execution_count": 4
  },
  {
   "metadata": {
    "ExecuteTime": {
     "end_time": "2025-04-08T06:52:43.359465Z",
     "start_time": "2025-04-08T06:52:43.355273Z"
    }
   },
   "cell_type": "code",
   "source": [
    "# Check for null values\n",
    "\n",
    "flat_df.isnull().sum()"
   ],
   "id": "cef6c7c81c0767ca",
   "outputs": [
    {
     "data": {
      "text/plain": [
       "Rating           0\n",
       "Comment          0\n",
       "Date posted      0\n",
       "Updated          0\n",
       "ReviewID         0\n",
       "Reviewer         0\n",
       "Reply            0\n",
       "ReplyUpdate    229\n",
       "dtype: int64"
      ]
     },
     "execution_count": 5,
     "metadata": {},
     "output_type": "execute_result"
    }
   ],
   "execution_count": 5
  },
  {
   "metadata": {
    "ExecuteTime": {
     "end_time": "2025-04-08T06:52:43.444289Z",
     "start_time": "2025-04-08T06:52:43.437419Z"
    }
   },
   "cell_type": "code",
   "source": [
    "# Create table that just has the comments which received replies\n",
    "\n",
    "replied_df = flat_df[flat_df['Reply'] != 'No Reply']\n",
    "replied_df.head()"
   ],
   "id": "16f2c1f51ce3608c",
   "outputs": [
    {
     "data": {
      "text/plain": [
       "   Rating                                            Comment  \\\n",
       "80   FIVE  Popped In, with my brother, Jerome. Visiting P...   \n",
       "81   FIVE  Excellent food and excellent service. Very pol...   \n",
       "82   FIVE                        A place you must go to eat.   \n",
       "83   FOUR                                          FOUR star   \n",
       "84   FIVE                                The food was great!   \n",
       "\n",
       "                    Date posted                      Updated  \\\n",
       "80  2022-08-09T23:12:21.137862Z  2022-08-09T23:14:01.290592Z   \n",
       "81  2022-07-27T06:38:25.947549Z  2022-07-27T06:38:25.947549Z   \n",
       "82     2018-06-02T10:21:07.801Z  2022-07-01T20:11:31.829372Z   \n",
       "83  2022-06-24T23:24:05.566380Z  2022-06-24T23:24:05.566380Z   \n",
       "84  2022-06-14T12:52:24.799537Z  2022-06-14T12:52:24.799537Z   \n",
       "\n",
       "                                             ReviewID           Reviewer  \\\n",
       "80  accounts/113125786415732178818/locations/11630...      Charles Rhodd   \n",
       "81  accounts/113125786415732178818/locations/11630...      stephen gould   \n",
       "82  accounts/113125786415732178818/locations/11630...       rosem fearon   \n",
       "83  accounts/113125786415732178818/locations/11630...  Alizabeth Holland   \n",
       "84  accounts/113125786415732178818/locations/11630...      odetta bailey   \n",
       "\n",
       "                                                Reply  \\\n",
       "80  Thank you so much for returning and showing us...   \n",
       "81                                  Thank you so much   \n",
       "82                                  Thank you so much   \n",
       "83                                          Thank you   \n",
       "84                                          Thank you   \n",
       "\n",
       "                    ReplyUpdate  \n",
       "80  2022-08-28T14:52:13.194467Z  \n",
       "81  2022-09-03T02:06:11.953185Z  \n",
       "82  2022-09-03T02:06:20.125970Z  \n",
       "83  2022-09-03T02:06:31.037348Z  \n",
       "84  2023-09-21T23:27:00.887095Z  "
      ],
      "text/html": [
       "<div>\n",
       "<style scoped>\n",
       "    .dataframe tbody tr th:only-of-type {\n",
       "        vertical-align: middle;\n",
       "    }\n",
       "\n",
       "    .dataframe tbody tr th {\n",
       "        vertical-align: top;\n",
       "    }\n",
       "\n",
       "    .dataframe thead th {\n",
       "        text-align: right;\n",
       "    }\n",
       "</style>\n",
       "<table border=\"1\" class=\"dataframe\">\n",
       "  <thead>\n",
       "    <tr style=\"text-align: right;\">\n",
       "      <th></th>\n",
       "      <th>Rating</th>\n",
       "      <th>Comment</th>\n",
       "      <th>Date posted</th>\n",
       "      <th>Updated</th>\n",
       "      <th>ReviewID</th>\n",
       "      <th>Reviewer</th>\n",
       "      <th>Reply</th>\n",
       "      <th>ReplyUpdate</th>\n",
       "    </tr>\n",
       "  </thead>\n",
       "  <tbody>\n",
       "    <tr>\n",
       "      <th>80</th>\n",
       "      <td>FIVE</td>\n",
       "      <td>Popped In, with my brother, Jerome. Visiting P...</td>\n",
       "      <td>2022-08-09T23:12:21.137862Z</td>\n",
       "      <td>2022-08-09T23:14:01.290592Z</td>\n",
       "      <td>accounts/113125786415732178818/locations/11630...</td>\n",
       "      <td>Charles Rhodd</td>\n",
       "      <td>Thank you so much for returning and showing us...</td>\n",
       "      <td>2022-08-28T14:52:13.194467Z</td>\n",
       "    </tr>\n",
       "    <tr>\n",
       "      <th>81</th>\n",
       "      <td>FIVE</td>\n",
       "      <td>Excellent food and excellent service. Very pol...</td>\n",
       "      <td>2022-07-27T06:38:25.947549Z</td>\n",
       "      <td>2022-07-27T06:38:25.947549Z</td>\n",
       "      <td>accounts/113125786415732178818/locations/11630...</td>\n",
       "      <td>stephen gould</td>\n",
       "      <td>Thank you so much</td>\n",
       "      <td>2022-09-03T02:06:11.953185Z</td>\n",
       "    </tr>\n",
       "    <tr>\n",
       "      <th>82</th>\n",
       "      <td>FIVE</td>\n",
       "      <td>A place you must go to eat.</td>\n",
       "      <td>2018-06-02T10:21:07.801Z</td>\n",
       "      <td>2022-07-01T20:11:31.829372Z</td>\n",
       "      <td>accounts/113125786415732178818/locations/11630...</td>\n",
       "      <td>rosem fearon</td>\n",
       "      <td>Thank you so much</td>\n",
       "      <td>2022-09-03T02:06:20.125970Z</td>\n",
       "    </tr>\n",
       "    <tr>\n",
       "      <th>83</th>\n",
       "      <td>FOUR</td>\n",
       "      <td>FOUR star</td>\n",
       "      <td>2022-06-24T23:24:05.566380Z</td>\n",
       "      <td>2022-06-24T23:24:05.566380Z</td>\n",
       "      <td>accounts/113125786415732178818/locations/11630...</td>\n",
       "      <td>Alizabeth Holland</td>\n",
       "      <td>Thank you</td>\n",
       "      <td>2022-09-03T02:06:31.037348Z</td>\n",
       "    </tr>\n",
       "    <tr>\n",
       "      <th>84</th>\n",
       "      <td>FIVE</td>\n",
       "      <td>The food was great!</td>\n",
       "      <td>2022-06-14T12:52:24.799537Z</td>\n",
       "      <td>2022-06-14T12:52:24.799537Z</td>\n",
       "      <td>accounts/113125786415732178818/locations/11630...</td>\n",
       "      <td>odetta bailey</td>\n",
       "      <td>Thank you</td>\n",
       "      <td>2023-09-21T23:27:00.887095Z</td>\n",
       "    </tr>\n",
       "  </tbody>\n",
       "</table>\n",
       "</div>"
      ]
     },
     "execution_count": 6,
     "metadata": {},
     "output_type": "execute_result"
    }
   ],
   "execution_count": 6
  },
  {
   "metadata": {
    "ExecuteTime": {
     "end_time": "2025-04-08T06:52:43.508945Z",
     "start_time": "2025-04-08T06:52:43.504912Z"
    }
   },
   "cell_type": "code",
   "source": [
    "# Save data\n",
    "\n",
    "flat_df.to_csv('/Users/jahdovanterpool/Downloads/Sylvia/local_sentiment_project.csv')\n"
   ],
   "id": "10fd878c439fddbc",
   "outputs": [],
   "execution_count": 7
  },
  {
   "metadata": {},
   "cell_type": "markdown",
   "source": "### Loading data & text preprocessing",
   "id": "b3b7f975610de324"
  },
  {
   "metadata": {
    "ExecuteTime": {
     "end_time": "2025-04-08T06:52:43.605568Z",
     "start_time": "2025-04-08T06:52:43.599735Z"
    }
   },
   "cell_type": "code",
   "source": [
    "# Load data and drop some columns\n",
    "\n",
    "df = pd.read_csv('/Users/jahdovanterpool/Downloads/Sylvia/local_sentiment_project.csv',index_col=0)\n",
    "df.drop(['ReplyUpdate','ReviewID','Updated','Reviewer','Reply'],axis=1, inplace=True)\n",
    "\n",
    "df.head()"
   ],
   "id": "392d41049ed19568",
   "outputs": [
    {
     "data": {
      "text/plain": [
       "  Rating                                            Comment  \\\n",
       "0    TWO  Customer service was very nice. The prices wer...   \n",
       "1   FIVE                                          FIVE star   \n",
       "2   FOUR                                          FOUR star   \n",
       "3   FIVE  Oxtails, wow, best around 3 neighboring counti...   \n",
       "4   FIVE                                          FIVE star   \n",
       "\n",
       "                   Date posted  \n",
       "0  2022-01-18T16:52:22.018400Z  \n",
       "1  2022-01-06T18:13:54.656825Z  \n",
       "2  2019-09-10T21:10:15.208764Z  \n",
       "3  2022-01-05T18:22:16.895742Z  \n",
       "4  2021-12-10T19:37:43.238743Z  "
      ],
      "text/html": [
       "<div>\n",
       "<style scoped>\n",
       "    .dataframe tbody tr th:only-of-type {\n",
       "        vertical-align: middle;\n",
       "    }\n",
       "\n",
       "    .dataframe tbody tr th {\n",
       "        vertical-align: top;\n",
       "    }\n",
       "\n",
       "    .dataframe thead th {\n",
       "        text-align: right;\n",
       "    }\n",
       "</style>\n",
       "<table border=\"1\" class=\"dataframe\">\n",
       "  <thead>\n",
       "    <tr style=\"text-align: right;\">\n",
       "      <th></th>\n",
       "      <th>Rating</th>\n",
       "      <th>Comment</th>\n",
       "      <th>Date posted</th>\n",
       "    </tr>\n",
       "  </thead>\n",
       "  <tbody>\n",
       "    <tr>\n",
       "      <th>0</th>\n",
       "      <td>TWO</td>\n",
       "      <td>Customer service was very nice. The prices wer...</td>\n",
       "      <td>2022-01-18T16:52:22.018400Z</td>\n",
       "    </tr>\n",
       "    <tr>\n",
       "      <th>1</th>\n",
       "      <td>FIVE</td>\n",
       "      <td>FIVE star</td>\n",
       "      <td>2022-01-06T18:13:54.656825Z</td>\n",
       "    </tr>\n",
       "    <tr>\n",
       "      <th>2</th>\n",
       "      <td>FOUR</td>\n",
       "      <td>FOUR star</td>\n",
       "      <td>2019-09-10T21:10:15.208764Z</td>\n",
       "    </tr>\n",
       "    <tr>\n",
       "      <th>3</th>\n",
       "      <td>FIVE</td>\n",
       "      <td>Oxtails, wow, best around 3 neighboring counti...</td>\n",
       "      <td>2022-01-05T18:22:16.895742Z</td>\n",
       "    </tr>\n",
       "    <tr>\n",
       "      <th>4</th>\n",
       "      <td>FIVE</td>\n",
       "      <td>FIVE star</td>\n",
       "      <td>2021-12-10T19:37:43.238743Z</td>\n",
       "    </tr>\n",
       "  </tbody>\n",
       "</table>\n",
       "</div>"
      ]
     },
     "execution_count": 8,
     "metadata": {},
     "output_type": "execute_result"
    }
   ],
   "execution_count": 8
  },
  {
   "metadata": {
    "ExecuteTime": {
     "end_time": "2025-04-08T06:52:43.646219Z",
     "start_time": "2025-04-08T06:52:43.641196Z"
    }
   },
   "cell_type": "code",
   "source": [
    "# Convert ratings to integers\n",
    "\n",
    "rating_map = {\n",
    "    'TWO':2,\n",
    "    'FIVE':5,\n",
    "    'FOUR':4,\n",
    "    'THREE':3,\n",
    "    'ONE':1\n",
    "              }\n",
    "\n",
    "df['Stars'] = df['Rating'].map(rating_map)\n",
    "df.drop('Rating',axis=1,inplace=True)\n",
    "df.head()"
   ],
   "id": "86ccfc1563757bbc",
   "outputs": [
    {
     "data": {
      "text/plain": [
       "                                             Comment  \\\n",
       "0  Customer service was very nice. The prices wer...   \n",
       "1                                          FIVE star   \n",
       "2                                          FOUR star   \n",
       "3  Oxtails, wow, best around 3 neighboring counti...   \n",
       "4                                          FIVE star   \n",
       "\n",
       "                   Date posted  Stars  \n",
       "0  2022-01-18T16:52:22.018400Z      2  \n",
       "1  2022-01-06T18:13:54.656825Z      5  \n",
       "2  2019-09-10T21:10:15.208764Z      4  \n",
       "3  2022-01-05T18:22:16.895742Z      5  \n",
       "4  2021-12-10T19:37:43.238743Z      5  "
      ],
      "text/html": [
       "<div>\n",
       "<style scoped>\n",
       "    .dataframe tbody tr th:only-of-type {\n",
       "        vertical-align: middle;\n",
       "    }\n",
       "\n",
       "    .dataframe tbody tr th {\n",
       "        vertical-align: top;\n",
       "    }\n",
       "\n",
       "    .dataframe thead th {\n",
       "        text-align: right;\n",
       "    }\n",
       "</style>\n",
       "<table border=\"1\" class=\"dataframe\">\n",
       "  <thead>\n",
       "    <tr style=\"text-align: right;\">\n",
       "      <th></th>\n",
       "      <th>Comment</th>\n",
       "      <th>Date posted</th>\n",
       "      <th>Stars</th>\n",
       "    </tr>\n",
       "  </thead>\n",
       "  <tbody>\n",
       "    <tr>\n",
       "      <th>0</th>\n",
       "      <td>Customer service was very nice. The prices wer...</td>\n",
       "      <td>2022-01-18T16:52:22.018400Z</td>\n",
       "      <td>2</td>\n",
       "    </tr>\n",
       "    <tr>\n",
       "      <th>1</th>\n",
       "      <td>FIVE star</td>\n",
       "      <td>2022-01-06T18:13:54.656825Z</td>\n",
       "      <td>5</td>\n",
       "    </tr>\n",
       "    <tr>\n",
       "      <th>2</th>\n",
       "      <td>FOUR star</td>\n",
       "      <td>2019-09-10T21:10:15.208764Z</td>\n",
       "      <td>4</td>\n",
       "    </tr>\n",
       "    <tr>\n",
       "      <th>3</th>\n",
       "      <td>Oxtails, wow, best around 3 neighboring counti...</td>\n",
       "      <td>2022-01-05T18:22:16.895742Z</td>\n",
       "      <td>5</td>\n",
       "    </tr>\n",
       "    <tr>\n",
       "      <th>4</th>\n",
       "      <td>FIVE star</td>\n",
       "      <td>2021-12-10T19:37:43.238743Z</td>\n",
       "      <td>5</td>\n",
       "    </tr>\n",
       "  </tbody>\n",
       "</table>\n",
       "</div>"
      ]
     },
     "execution_count": 9,
     "metadata": {},
     "output_type": "execute_result"
    }
   ],
   "execution_count": 9
  },
  {
   "metadata": {
    "ExecuteTime": {
     "end_time": "2025-04-08T06:52:43.920433Z",
     "start_time": "2025-04-08T06:52:43.707091Z"
    }
   },
   "cell_type": "code",
   "source": [
    "# Plot the count of each rating\n",
    "\n",
    "score_counts = df['Stars'].value_counts()\n",
    "ax = score_counts.sort_index(ascending=True).plot(kind='bar',\n",
    "                                    title = 'Count of Reviews by Stars',\n",
    "                                    figsize = (6,4),\n",
    "                                    rot = 360\n",
    "                                    )\n",
    "\n",
    "plt.grid(True)\n",
    "plt.show()"
   ],
   "id": "9768d3b3b0768e4b",
   "outputs": [
    {
     "data": {
      "text/plain": [
       "<Figure size 600x400 with 1 Axes>"
      ],
      "image/png": "[encoded data removed]"
     },
     "metadata": {},
     "output_type": "display_data"
    }
   ],
   "execution_count": 10
  },
  {
   "metadata": {
    "ExecuteTime": {
     "end_time": "2025-04-08T06:52:45.044608Z",
     "start_time": "2025-04-08T06:52:43.970360Z"
    }
   },
   "cell_type": "code",
   "source": [
    "import nltk\n",
    "from nltk.corpus import stopwords\n",
    "stop_words = set(stopwords.words(['english','spanish']))"
   ],
   "id": "ab8f8d08be3d14e3",
   "outputs": [],
   "execution_count": 11
  },
  {
   "metadata": {
    "ExecuteTime": {
     "end_time": "2025-04-08T06:53:15.766691Z",
     "start_time": "2025-04-08T06:53:15.757431Z"
    }
   },
   "cell_type": "code",
   "source": [
    "# Clean text\n",
    "def clean_text(text):\n",
    "    text = text.lower()\n",
    "    text = re.sub(r\"[^\\w\\s]\", \" \", text)\n",
    "    words = text.split()\n",
    "    words = [word for word in words if word not in stop_words]\n",
    "    return ' '.join(words)\n",
    "\n",
    "df['clean_text'] = df['Comment'].apply(clean_text)\n",
    "df.head()"
   ],
   "id": "65afe5d90780e7e",
   "outputs": [
    {
     "data": {
      "text/plain": [
       "                                             Comment  \\\n",
       "0  Customer service was very nice. The prices wer...   \n",
       "1                                          FIVE star   \n",
       "2                                          FOUR star   \n",
       "3  Oxtails, wow, best around 3 neighboring counti...   \n",
       "4                                          FIVE star   \n",
       "\n",
       "                   Date posted  Stars  \\\n",
       "0  2022-01-18T16:52:22.018400Z      2   \n",
       "1  2022-01-06T18:13:54.656825Z      5   \n",
       "2  2019-09-10T21:10:15.208764Z      4   \n",
       "3  2022-01-05T18:22:16.895742Z      5   \n",
       "4  2021-12-10T19:37:43.238743Z      5   \n",
       "\n",
       "                                          clean_text  \n",
       "0  customer service nice prices ok good caribbean...  \n",
       "1                                          five star  \n",
       "2                                          four star  \n",
       "3  oxtails wow best around 3 neighboring counties...  \n",
       "4                                          five star  "
      ],
      "text/html": [
       "<div>\n",
       "<style scoped>\n",
       "    .dataframe tbody tr th:only-of-type {\n",
       "        vertical-align: middle;\n",
       "    }\n",
       "\n",
       "    .dataframe tbody tr th {\n",
       "        vertical-align: top;\n",
       "    }\n",
       "\n",
       "    .dataframe thead th {\n",
       "        text-align: right;\n",
       "    }\n",
       "</style>\n",
       "<table border=\"1\" class=\"dataframe\">\n",
       "  <thead>\n",
       "    <tr style=\"text-align: right;\">\n",
       "      <th></th>\n",
       "      <th>Comment</th>\n",
       "      <th>Date posted</th>\n",
       "      <th>Stars</th>\n",
       "      <th>clean_text</th>\n",
       "    </tr>\n",
       "  </thead>\n",
       "  <tbody>\n",
       "    <tr>\n",
       "      <th>0</th>\n",
       "      <td>Customer service was very nice. The prices wer...</td>\n",
       "      <td>2022-01-18T16:52:22.018400Z</td>\n",
       "      <td>2</td>\n",
       "      <td>customer service nice prices ok good caribbean...</td>\n",
       "    </tr>\n",
       "    <tr>\n",
       "      <th>1</th>\n",
       "      <td>FIVE star</td>\n",
       "      <td>2022-01-06T18:13:54.656825Z</td>\n",
       "      <td>5</td>\n",
       "      <td>five star</td>\n",
       "    </tr>\n",
       "    <tr>\n",
       "      <th>2</th>\n",
       "      <td>FOUR star</td>\n",
       "      <td>2019-09-10T21:10:15.208764Z</td>\n",
       "      <td>4</td>\n",
       "      <td>four star</td>\n",
       "    </tr>\n",
       "    <tr>\n",
       "      <th>3</th>\n",
       "      <td>Oxtails, wow, best around 3 neighboring counti...</td>\n",
       "      <td>2022-01-05T18:22:16.895742Z</td>\n",
       "      <td>5</td>\n",
       "      <td>oxtails wow best around 3 neighboring counties...</td>\n",
       "    </tr>\n",
       "    <tr>\n",
       "      <th>4</th>\n",
       "      <td>FIVE star</td>\n",
       "      <td>2021-12-10T19:37:43.238743Z</td>\n",
       "      <td>5</td>\n",
       "      <td>five star</td>\n",
       "    </tr>\n",
       "  </tbody>\n",
       "</table>\n",
       "</div>"
      ]
     },
     "execution_count": 14,
     "metadata": {},
     "output_type": "execute_result"
    }
   ],
   "execution_count": 14
  },
  {
   "metadata": {
    "ExecuteTime": {
     "end_time": "2025-04-13T14:41:29.929202Z",
     "start_time": "2025-04-13T14:41:29.821446Z"
    }
   },
   "cell_type": "code",
   "source": [
    "# Reorder the columns\n",
    "df = df[['Stars','Comment', 'clean_text','Date posted']]\n",
    "df.head()"
   ],
   "id": "271182dca5d6d8a9",
   "outputs": [
    {
     "ename": "NameError",
     "evalue": "name 'df' is not defined",
     "output_type": "error",
     "traceback": [
      "\u001B[31m---------------------------------------------------------------------------\u001B[39m",
      "\u001B[31mNameError\u001B[39m                                 Traceback (most recent call last)",
      "\u001B[36mCell\u001B[39m\u001B[36m \u001B[39m\u001B[32mIn[1]\u001B[39m\u001B[32m, line 1\u001B[39m\n\u001B[32m----> \u001B[39m\u001B[32m1\u001B[39m df = \u001B[43mdf\u001B[49m[[\u001B[33m'\u001B[39m\u001B[33mStars\u001B[39m\u001B[33m'\u001B[39m,\u001B[33m'\u001B[39m\u001B[33mComment\u001B[39m\u001B[33m'\u001B[39m, \u001B[33m'\u001B[39m\u001B[33mclean_text\u001B[39m\u001B[33m'\u001B[39m,\u001B[33m'\u001B[39m\u001B[33mDate posted\u001B[39m\u001B[33m'\u001B[39m]]\n\u001B[32m      2\u001B[39m df.head()\n",
      "\u001B[31mNameError\u001B[39m: name 'df' is not defined"
     ]
    }
   ],
   "execution_count": 1
  },
  {
   "metadata": {
    "ExecuteTime": {
     "end_time": "2025-04-08T06:54:39.088570Z",
     "start_time": "2025-04-08T06:54:39.085348Z"
    }
   },
   "cell_type": "code",
   "source": "df.columns",
   "id": "3598eed1316e0ca6",
   "outputs": [
    {
     "data": {
      "text/plain": [
       "Index(['Comment', 'Date posted', 'Stars', 'clean_text'], dtype='object')"
      ]
     },
     "execution_count": 15,
     "metadata": {},
     "output_type": "execute_result"
    }
   ],
   "execution_count": 15
  },
  {
   "metadata": {},
   "cell_type": "code",
   "outputs": [],
   "execution_count": null,
   "source": "",
   "id": "a24a7542b052dde3"
  }
 ],
 "metadata": {
  "kernelspec": {
   "display_name": "Python 3",
   "language": "python",
   "name": "python3"
  },
  "language_info": {
   "codemirror_mode": {
    "name": "ipython",
    "version": 2
   },
   "file_extension": ".py",
   "mimetype": "text/x-python",
   "name": "python",
   "nbconvert_exporter": "python",
   "pygments_lexer": "ipython2",
   "version": "2.7.6"
  }
 },
 "nbformat": 4,
 "nbformat_minor": 5
}
